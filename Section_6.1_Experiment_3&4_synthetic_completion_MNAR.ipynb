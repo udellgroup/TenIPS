{
 "cells": [
  {
   "cell_type": "markdown",
   "metadata": {},
   "source": [
    "In the following implementation, \"paper1\" refers to the HOSVD_w algorithm in https://arxiv.org/pdf/2003.08537.pdf, and \"paper2\" refers to the SO-HOSVD algorithm in https://arxiv.org/pdf/1711.04934.pdf. \n",
    "\n",
    "It takes about 30 minutes to run the cells before the least squares part at the end."
   ]
  },
  {
   "cell_type": "code",
   "execution_count": 1,
   "metadata": {},
   "outputs": [],
   "source": [
    "import numpy as np\n",
    "import tensorly as tl\n",
    "import time\n",
    "import os\n",
    "from tensorly.decomposition import tucker, parafac, non_negative_tucker\n",
    "from tensorly import tucker_to_tensor\n",
    "from matplotlib import pyplot as plt\n",
    "import multiprocessing as mp\n",
    "from sklearn.utils.extmath import randomized_svd\n",
    "from scipy.sparse.linalg import svds\n",
    "\n",
    "import mkl\n",
    "mkl.set_num_threads(1)\n",
    "\n",
    "from util import std_logistic_function, get_square_set, square_unfolding, normalized_error, tenips_general, \\\n",
    "tenips_general_paper1, generate_orthogonal_mats, one_bit_MC_fully_observed, one_bit_TC_fully_observed_gd, \\\n",
    "unfolding_based_ips_tensor_completion\n",
    "\n",
    "from matplotlib import pyplot as plt\n",
    "import matplotlib.ticker as ticker\n",
    "from matplotlib import rc\n",
    "rc('font', **{'family': 'serif', 'serif': ['Computer Modern'], 'weight': 'bold'})\n",
    "rc('text', usetex=True)"
   ]
  },
  {
   "cell_type": "markdown",
   "metadata": {},
   "source": [
    "generate low rank + noise data tensor"
   ]
  },
  {
   "cell_type": "code",
   "execution_count": 2,
   "metadata": {},
   "outputs": [],
   "source": [
    "r = [5, 5, 5, 5]\n",
    "I = 100\n",
    "N = len(r)\n",
    "noise_para = 0.1 # noise parameter\n",
    "np.random.seed(1)\n",
    "real_core = 100 * tl.tensor(np.random.randn(*r))\n",
    "factor_matrices = [generate_orthogonal_mats((I, r[0])) for i in range(N)]\n",
    "real_B = tucker_to_tensor((real_core, factor_matrices))\n",
    "fro_norm = np.linalg.norm(real_B)\n",
    "noise_coeff = noise_para * fro_norm / I ** (len(r)*1./2)\n",
    "noise_ten = tl.tensor(np.random.normal(0, 1, [I]*N))\n",
    "B = real_B + noise_coeff*noise_ten"
   ]
  },
  {
   "cell_type": "markdown",
   "metadata": {},
   "source": [
    "generate propensity tensor"
   ]
  },
  {
   "cell_type": "code",
   "execution_count": 3,
   "metadata": {},
   "outputs": [],
   "source": [
    "A_noise_para = 0.1 # noise parameter\n",
    "np.random.seed(2)\n",
    "A_real_core = 100 * tl.tensor(np.random.randn(*r))\n",
    "A_factor_matrices = [generate_orthogonal_mats((I,r[0])) for i in range(N)]\n",
    "real_A = tucker_to_tensor((A_real_core, A_factor_matrices))\n",
    "A_fro_norm = np.linalg.norm(real_A)\n",
    "A_noise_coeff = A_noise_para * A_fro_norm / I ** (len(r)*1./2)\n",
    "A_noise_ten = tl.tensor(np.random.normal(0,1,[I]*N))\n",
    "A = real_A + A_noise_coeff * A_noise_ten"
   ]
  },
  {
   "cell_type": "code",
   "execution_count": 4,
   "metadata": {},
   "outputs": [],
   "source": [
    "P = std_logistic_function(A)"
   ]
  },
  {
   "cell_type": "markdown",
   "metadata": {},
   "source": [
    "histogram of entry values in the data tensor"
   ]
  },
  {
   "cell_type": "code",
   "execution_count": 5,
   "metadata": {},
   "outputs": [
    {
     "data": {
      "text/plain": [
       "(array([       0., 10000000., 20000000., 30000000., 40000000., 50000000.,\n",
       "        60000000., 70000000., 80000000.]),\n",
       " <a list of 9 Text yticklabel objects>)"
      ]
     },
     "execution_count": 5,
     "metadata": {},
     "output_type": "execute_result"
    },
    {
     "data": {
      "image/png": "[encoded data removed]",
      "text/plain": [
       "<Figure size 432x288 with 1 Axes>"
      ]
     },
     "metadata": {
      "needs_background": "light"
     },
     "output_type": "display_data"
    }
   ],
   "source": [
    "fontsize = 30\n",
    "plt.hist(B.flatten())\n",
    "plt.ylabel(\"Number of entries\", fontsize=fontsize)\n",
    "plt.xlabel(\"Entry value of the data tensor\", fontsize=fontsize)\n",
    "plt.xticks(fontsize=fontsize)\n",
    "plt.yticks(fontsize=fontsize)"
   ]
  },
  {
   "cell_type": "markdown",
   "metadata": {},
   "source": [
    "histogram of entrywise propensities"
   ]
  },
  {
   "cell_type": "code",
   "execution_count": 6,
   "metadata": {},
   "outputs": [
    {
     "data": {
      "text/plain": [
       "(array([       0., 10000000., 20000000., 30000000., 40000000., 50000000.,\n",
       "        60000000.]),\n",
       " <a list of 7 Text yticklabel objects>)"
      ]
     },
     "execution_count": 6,
     "metadata": {},
     "output_type": "execute_result"
    },
    {
     "data": {
      "image/png": "[encoded data removed]",
      "text/plain": [
       "<Figure size 432x288 with 1 Axes>"
      ]
     },
     "metadata": {
      "needs_background": "light"
     },
     "output_type": "display_data"
    }
   ],
   "source": [
    "fontsize = 50\n",
    "plt.hist(P.flatten())\n",
    "plt.ylabel(\"\\# entries\", fontsize=fontsize)\n",
    "plt.xlabel(\"propensity\", fontsize=fontsize)\n",
    "xtick_pos = [0.2, 0.4, 0.6, 0.8]\n",
    "plt.xticks(xtick_pos, fontsize=fontsize-10)\n",
    "plt.yticks(fontsize=fontsize-10)"
   ]
  },
  {
   "cell_type": "code",
   "execution_count": 7,
   "metadata": {},
   "outputs": [],
   "source": [
    "ratio_lst = list(np.arange(0.1, 0.75, 0.05))"
   ]
  },
  {
   "cell_type": "code",
   "execution_count": 8,
   "metadata": {},
   "outputs": [],
   "source": [
    "prop_B = std_logistic_function(A)\n",
    "mask_B = (np.random.uniform(0, 1, prop_B.shape) < prop_B).astype(int)"
   ]
  },
  {
   "cell_type": "markdown",
   "metadata": {},
   "source": [
    "estimate propensities by Algorithm 1 (ConvexPE)"
   ]
  },
  {
   "cell_type": "code",
   "execution_count": 9,
   "metadata": {},
   "outputs": [],
   "source": [
    "A_sq = square_unfolding(A)\n",
    "_, A_Sigma, _ = randomized_svd(A_sq, n_components=10, n_iter=20, random_state=None)\n",
    "alpha_of_A_sq = np.max(np.abs(A_sq))\n",
    "theta_of_A_sq = np.sum(A_Sigma) / (np.sqrt(np.prod(A_sq.shape)))"
   ]
  },
  {
   "cell_type": "code",
   "execution_count": 10,
   "metadata": {},
   "outputs": [
    {
     "data": {
      "text/plain": [
       "3.1740064600780293"
      ]
     },
     "execution_count": 10,
     "metadata": {},
     "output_type": "execute_result"
    }
   ],
   "source": [
    "alpha_of_A_sq"
   ]
  },
  {
   "cell_type": "code",
   "execution_count": 11,
   "metadata": {},
   "outputs": [
    {
     "data": {
      "text/plain": [
       "0.7183197378579977"
      ]
     },
     "execution_count": 11,
     "metadata": {},
     "output_type": "execute_result"
    }
   ],
   "source": [
    "theta_of_A_sq"
   ]
  },
  {
   "cell_type": "code",
   "execution_count": 12,
   "metadata": {},
   "outputs": [],
   "source": [
    "prop_B_sq = square_unfolding(prop_B)\n",
    "mask_B_sq = square_unfolding(mask_B)\n",
    "\n",
    "start = time.time()\n",
    "A_sq_pred = one_bit_MC_fully_observed(mask_B_sq, std_logistic_function, apg_max_iter=5, \n",
    "                                             tau=theta_of_A_sq, gamma=alpha_of_A_sq, max_rank=25, init='uniform')\n",
    "elapsed_sq = time.time() - start\n",
    "\n",
    "prop_B_sq_pred = std_logistic_function(A_sq_pred)\n",
    "\n",
    "# relative error of propensity estimation\n",
    "relative_error_sq = np.linalg.norm(prop_B_sq_pred - prop_B_sq) / np.linalg.norm(prop_B_sq)\n",
    "\n",
    "# predicted propensity tensor\n",
    "tensor_shape = prop_B.shape\n",
    "prop_B_pred = tl.fold(np.reshape(prop_B_sq_pred, (tensor_shape[0], np.prod(tensor_shape[1:])), order='F'), mode=0, shape=tensor_shape)"
   ]
  },
  {
   "cell_type": "markdown",
   "metadata": {},
   "source": [
    "OR: estimate propensities by Algorithm 2 (NonconvexPE)"
   ]
  },
  {
   "cell_type": "code",
   "execution_count": 13,
   "metadata": {},
   "outputs": [
    {
     "name": "stdout",
     "output_type": "stream",
     "text": [
      "true loss: 68513518.66927758\n",
      "Iteration 0 ...\n",
      "relative loss: 1.3796929878297604\n",
      "grad U: 2456.55785661077\n",
      "U: -0.0049779836276153885\n",
      "grad G: 10050.062585279402\n",
      "G: 0.0625232507412343\n",
      "cumulated time: 29.574158668518066\n",
      "Iteration 1 ...\n",
      "grad U: -49.96155010506954\n",
      "U: -0.017260772910669245\n",
      "grad G: 101.09606500931466\n",
      "G: 0.0122729378148373\n",
      "cumulated time: 54.180397033691406\n",
      "Iteration 2 ...\n",
      "grad U: -29.073033057746123\n",
      "U: -0.017010965160143898\n",
      "grad G: 98.85747117773323\n",
      "G: 0.011767457489790726\n",
      "cumulated time: 80.9582450389862\n",
      "Iteration 3 ...\n",
      "grad U: -20.358363785014962\n",
      "U: -0.016865599994855165\n",
      "grad G: 85.99442830966647\n",
      "G: 0.011273170133902057\n",
      "cumulated time: 105.80043172836304\n",
      "Iteration 4 ...\n",
      "grad U: -15.489597734076899\n",
      "U: -0.01676380817593009\n",
      "grad G: 74.05283440610829\n",
      "G: 0.010843197992353726\n",
      "cumulated time: 129.7405481338501\n"
     ]
    }
   ],
   "source": [
    "target_ranks = [5, 5, 5, 5]\n",
    "step_size = 5e-6\n",
    "A_pred, optimization_details = one_bit_TC_fully_observed_gd(\n",
    "    mask_B, std_logistic_function, target_ranks, max_iter=5, A_true=A, \n",
    "    step_size_G=step_size, step_size_U=step_size)"
   ]
  },
  {
   "cell_type": "markdown",
   "metadata": {},
   "source": [
    "TenIPS"
   ]
  },
  {
   "cell_type": "code",
   "execution_count": 14,
   "metadata": {},
   "outputs": [],
   "source": [
    "start = time.time()\n",
    "X_hat_tenips = tenips_general(mask_B * B, prop_B, r)\n",
    "elapsed_tenips = time.time() - start"
   ]
  },
  {
   "cell_type": "code",
   "execution_count": 15,
   "metadata": {},
   "outputs": [
    {
     "data": {
      "text/plain": [
       "0.11022625065309516"
      ]
     },
     "execution_count": 15,
     "metadata": {},
     "output_type": "execute_result"
    }
   ],
   "source": [
    "normalized_error(X_hat_tenips, B)"
   ]
  },
  {
   "cell_type": "code",
   "execution_count": 16,
   "metadata": {},
   "outputs": [
    {
     "data": {
      "text/plain": [
       "23.277865648269653"
      ]
     },
     "execution_count": 16,
     "metadata": {},
     "output_type": "execute_result"
    }
   ],
   "source": [
    "elapsed_tenips"
   ]
  },
  {
   "cell_type": "code",
   "execution_count": 17,
   "metadata": {},
   "outputs": [
    {
     "name": "stdout",
     "output_type": "stream",
     "text": [
      "0.12922760123009058\n",
      "elapsed :34.33333086967468\n"
     ]
    }
   ],
   "source": [
    "start = time.time()\n",
    "X_hat_tenips_paper1 = tenips_general_paper1(mask_B * B, prop_B, r)\n",
    "print(normalized_error(X_hat_tenips_paper1, B))\n",
    "print(\"elapsed :{}\".format(time.time()-start))"
   ]
  },
  {
   "cell_type": "markdown",
   "metadata": {},
   "source": [
    "It takes too long to run SO-HOSVD on our synthetic MNAR tensor."
   ]
  },
  {
   "cell_type": "code",
   "execution_count": 18,
   "metadata": {},
   "outputs": [],
   "source": [
    "# start = time.time()\n",
    "# X_hat_tenips_paper2 = tenips_general_paper2(mask_B * B, prop_B,r)\n",
    "# print(normalized_error(X_hat_tenips_paper2, B))\n",
    "# print(\"elapsed :{}\".format(time.time()-start))"
   ]
  },
  {
   "cell_type": "code",
   "execution_count": 19,
   "metadata": {},
   "outputs": [
    {
     "name": "stdout",
     "output_type": "stream",
     "text": [
      "start rank: 1\n",
      "start rank: 2\n",
      "start rank: 3\n",
      "start rank: 4\n",
      "start rank: 5\n",
      "start rank: 6\n",
      "start rank: 7\n",
      "start rank: 8\n",
      "start rank: 9\n"
     ]
    }
   ],
   "source": [
    "# TenIPS, propensity-reweighted, different ratio, different random seeds\n",
    "norm_errors_general_rank = []\n",
    "norm_errors_general_paper1_rank = []\n",
    "rank_list = [1, 2, 3, 4, 5, 6, 7, 8, 9]\n",
    "for rank in rank_list:\n",
    "    r = [rank, rank, rank, rank]\n",
    "    print(\"start rank: {}\".format(rank))\n",
    "\n",
    "    X_res = tenips_general(mask_B * B, prop_B, r)\n",
    "    X_res_paper1 = tenips_general_paper1(mask_B * B, prop_B, r)\n",
    "    norm_errors_general_rank.append(normalized_error(B, X_res))\n",
    "    norm_errors_general_paper1_rank.append(normalized_error(B, X_res_paper1))"
   ]
  },
  {
   "cell_type": "code",
   "execution_count": 20,
   "metadata": {},
   "outputs": [
    {
     "name": "stdout",
     "output_type": "stream",
     "text": [
      "start rank: 1\n",
      "rank is 1\n",
      "rank is 1\n",
      "start rank: 2\n",
      "rank is 4\n",
      "rank is 2\n",
      "start rank: 3\n",
      "rank is 9\n",
      "rank is 3\n",
      "start rank: 4\n",
      "rank is 16\n",
      "rank is 4\n",
      "start rank: 5\n",
      "rank is 25\n",
      "rank is 5\n",
      "start rank: 6\n",
      "rank is 36\n",
      "rank is 6\n",
      "start rank: 7\n",
      "rank is 49\n",
      "rank is 7\n",
      "start rank: 8\n",
      "rank is 64\n",
      "rank is 8\n",
      "start rank: 9\n",
      "rank is 81\n",
      "rank is 9\n"
     ]
    }
   ],
   "source": [
    "# Matrix Completion, propensity reweighted, different ratio\n",
    "norm_errors_mat_square_rank = []\n",
    "norm_errors_mat_unfolding0_rank = []\n",
    "\n",
    "x_mat_0 = tl.unfold(B, 0)\n",
    "x_mat_sq = square_unfolding(B)\n",
    "for rank in rank_list:    \n",
    "    r = [rank, rank, rank, rank]\n",
    "    print(\"start rank: {}\".format(rank))\n",
    "    x_res_square = unfolding_based_ips_tensor_completion(mask_B * B, prop_B, r, unfolding='square')\n",
    "    x_res_unfolding0 = unfolding_based_ips_tensor_completion(mask_B * B, prop_B, r, unfolding='0')\n",
    "    norm_errors_mat_square_rank.append(normalized_error(x_mat_sq, x_res_square))\n",
    "    norm_errors_mat_unfolding0_rank.append(normalized_error(x_mat_0, x_res_unfolding0))"
   ]
  },
  {
   "cell_type": "code",
   "execution_count": 21,
   "metadata": {},
   "outputs": [],
   "source": [
    "# # TenIPS, propensity-reweighted, different ratio, different random seeds\n",
    "# norm_errors_general_paper2_rank = []\n",
    "# rank_list = [1, 2, 3, 4, 5, 6, 7, 8, 9]\n",
    "# for rank in rank_list:\n",
    "    \n",
    "#     r = [rank, rank, rank, rank]\n",
    "#     print(\"start rank: {}\".format(rank))\n",
    "#     X_res_paper2 = tenips_general_paper2_rank(mask_B * B, prop_X, r)\n",
    "#     norm_errors_general_paper2_rank.append(normalized_error(B, X_res_paper2))"
   ]
  },
  {
   "cell_type": "markdown",
   "metadata": {},
   "source": [
    "Figure for Experiment 4 (varying target rank)"
   ]
  },
  {
   "cell_type": "code",
   "execution_count": 22,
   "metadata": {},
   "outputs": [
    {
     "data": {
      "text/plain": [
       "<matplotlib.legend.Legend at 0x7f401eb2cd68>"
      ]
     },
     "execution_count": 22,
     "metadata": {},
     "output_type": "execute_result"
    },
    {
     "name": "stderr",
     "output_type": "stream",
     "text": [
      "findfont: Font family ['serif'] not found. Falling back to DejaVu Sans.\n"
     ]
    },
    {
     "data": {
      "image/png": "[encoded data removed]",
      "text/plain": [
       "<Figure size 432x288 with 1 Axes>"
      ]
     },
     "metadata": {
      "needs_background": "light"
     },
     "output_type": "display_data"
    }
   ],
   "source": [
    "fontsize = 50\n",
    "markersize = 12\n",
    "colors = ['blue', 'green', 'orange','red','yellow']\n",
    "\n",
    "plt.plot(rank_list, norm_errors_general_rank, 'bo', linestyle='dashed', markersize=markersize, color=colors[0],linewidth=5, label=r\"\\textsc{TenIPS}\")\n",
    "plt.plot(rank_list, norm_errors_general_paper1_rank, 'bo', marker='<', linestyle='dotted', alpha=0.8, markersize=markersize, color=colors[3], label=r\"\\textsc{HOSVD\\_w}\")\n",
    "plt.plot(rank_list, norm_errors_mat_square_rank, 'bo', marker='v', linestyle='--', markersize=markersize, color=colors[1], label=r\"\\textsc{SqUnfold}\")\n",
    "plt.plot(rank_list, norm_errors_mat_unfolding0_rank, 'bo', marker='s', linestyle='-', markersize=markersize, color=colors[2], label=r\"\\textsc{RectUnfold}\")\n",
    "\n",
    "plt.ylabel(\"relative error\", fontsize=fontsize-10)\n",
    "plt.xlabel(\"target rank\", fontsize=fontsize-10)\n",
    "xtick_pos = [2, 4, 6, 8]\n",
    "ytick_pos = [0, 0.5, 1]\n",
    "plt.xticks(xtick_pos, fontsize=fontsize-10)\n",
    "plt.yticks(ytick_pos, fontsize=fontsize-10)\n",
    "\n",
    "plt.legend(loc='upper center', bbox_to_anchor=(.7, -.5), fancybox=True, shadow=False, ncol=4, fontsize=fontsize-15)"
   ]
  },
  {
   "cell_type": "markdown",
   "metadata": {},
   "source": [
    "unfolding along one dimension"
   ]
  },
  {
   "cell_type": "code",
   "execution_count": 25,
   "metadata": {},
   "outputs": [],
   "source": [
    "r = [5, 5, 5, 5]"
   ]
  },
  {
   "cell_type": "code",
   "execution_count": 26,
   "metadata": {},
   "outputs": [
    {
     "name": "stdout",
     "output_type": "stream",
     "text": [
      "rank is 25\n"
     ]
    }
   ],
   "source": [
    "start = time.time()\n",
    "X_hat_square = unfolding_based_ips_tensor_completion(mask_B*B, prop_B, ranks=r, unfolding='square')\n",
    "elapsed_square = time.time() - start"
   ]
  },
  {
   "cell_type": "code",
   "execution_count": 27,
   "metadata": {},
   "outputs": [
    {
     "data": {
      "text/plain": [
       "0.14099836217141015"
      ]
     },
     "execution_count": 27,
     "metadata": {},
     "output_type": "execute_result"
    }
   ],
   "source": [
    "normalized_error(X_hat_square, square_unfolding(B))"
   ]
  },
  {
   "cell_type": "code",
   "execution_count": 28,
   "metadata": {},
   "outputs": [
    {
     "data": {
      "text/plain": [
       "26.41338086128235"
      ]
     },
     "execution_count": 28,
     "metadata": {},
     "output_type": "execute_result"
    }
   ],
   "source": [
    "elapsed_square"
   ]
  },
  {
   "cell_type": "code",
   "execution_count": 29,
   "metadata": {},
   "outputs": [
    {
     "name": "stdout",
     "output_type": "stream",
     "text": [
      "rank is 5\n"
     ]
    }
   ],
   "source": [
    "start = time.time()\n",
    "X_hat_rect = unfolding_based_ips_tensor_completion(mask_B*B, prop_B, ranks=r, unfolding=0)\n",
    "elapsed_rect = time.time() - start"
   ]
  },
  {
   "cell_type": "code",
   "execution_count": 30,
   "metadata": {},
   "outputs": [
    {
     "data": {
      "text/plain": [
       "0.2593957152317498"
      ]
     },
     "execution_count": 30,
     "metadata": {},
     "output_type": "execute_result"
    }
   ],
   "source": [
    "normalized_error(X_hat_rect, tl.unfold(B, mode=0))"
   ]
  },
  {
   "cell_type": "code",
   "execution_count": 31,
   "metadata": {},
   "outputs": [
    {
     "data": {
      "text/plain": [
       "7.075739622116089"
      ]
     },
     "execution_count": 31,
     "metadata": {},
     "output_type": "execute_result"
    }
   ],
   "source": [
    "elapsed_rect"
   ]
  },
  {
   "cell_type": "markdown",
   "metadata": {},
   "source": [
    "least squares"
   ]
  },
  {
   "cell_type": "code",
   "execution_count": null,
   "metadata": {},
   "outputs": [],
   "source": [
    "B_rect = tl.unfold(B, mode=0)\n",
    "mask_B_rect = tl.unfold(mask_B, mode=0)\n",
    "prop_B_rect = tl.unfold(prop_B, mode=0)"
   ]
  },
  {
   "cell_type": "code",
   "execution_count": null,
   "metadata": {},
   "outputs": [],
   "source": [
    "def one_bit_MC_fully_observed(M, link, link_gradient, tau, gamma, max_rank=None,\n",
    "                              apg_max_iter=500, apg_eps=1e-12,\n",
    "                              apg_use_restart=True):\n",
    "    # parameters are the same as in the paper; if `max_rank` is set to None,\n",
    "    # then exact SVD is used\n",
    "    m = M.shape[0]\n",
    "    n = M.shape[1]\n",
    "    tau_sqrt_mn = tau * np.sqrt(m*n)\n",
    "\n",
    "    def prox(_A, t):\n",
    "        _A = _A.reshape(m, n)\n",
    "\n",
    "        # project so nuclear norm is at most tau*sqrt(m*n)\n",
    "        if max_rank is None:\n",
    "#             U, S, VT = np.linalg.svd(_A, full_matrices=False)\n",
    "            U, S, VT = svds(_A, k=min(_A.shape))\n",
    "            U = np.fliplr(U)\n",
    "            S = np.flipud(S)\n",
    "            VT = np.flipud(VT)\n",
    "#             U, S, VT = randomized_svd(A, n_components=min(m, n), n_iter=10, random_state=None)\n",
    "        else:\n",
    "            U, S, VT = randomized_svd(_A, max_rank)\n",
    "#             U, S, VT = randomized_svd(A, n_components=max_rank, n_iter=50, random_state=None)\n",
    "        nuclear_norm = np.sum(S)\n",
    "        if nuclear_norm > tau_sqrt_mn:\n",
    "            S *= tau_sqrt_mn / nuclear_norm\n",
    "            _A = np.dot(U * S, VT)\n",
    "\n",
    "        # clip matrix entries with absolute value greater than gamma\n",
    "        mask = np.abs(_A) > gamma\n",
    "        if mask.sum() > 0:\n",
    "            _A[mask] = np.sign(_A[mask]) * gamma\n",
    "\n",
    "        return _A.flatten()\n",
    "\n",
    "    M_one_mask = (M == 1)\n",
    "    M_zero_mask = (M == 0)\n",
    "    def grad(_A):\n",
    "        _A = _A.reshape(m, n)\n",
    "\n",
    "        grad = np.zeros((m, n))\n",
    "        grad[M_one_mask] = -link_gradient(_A[M_one_mask])/link(_A[M_one_mask])\n",
    "        grad[M_zero_mask] = \\\n",
    "            link_gradient(_A[M_zero_mask])/(1 - link(_A[M_zero_mask]))\n",
    "\n",
    "        return grad.flatten()\n",
    "\n",
    "    A_hat = apgpy.solve(grad, prox, np.zeros(m*n),\n",
    "                        max_iters=apg_max_iter,\n",
    "                        eps=apg_eps,\n",
    "                        use_gra=True,\n",
    "                        use_restart=apg_use_restart,\n",
    "                        quiet=True)\n",
    "    P_hat = link(A_hat.reshape(m, n))\n",
    "    return P_hat"
   ]
  },
  {
   "cell_type": "code",
   "execution_count": null,
   "metadata": {},
   "outputs": [],
   "source": [
    "def weighted_softimpute(X, M, W, lmbda, max_rank=None,\n",
    "                        min_value=None, max_value=None,\n",
    "                        apg_max_iter=100, apg_eps=1e-6,\n",
    "                        apg_use_restart=True):\n",
    "    m = X.shape[0]\n",
    "    n = X.shape[1]\n",
    "\n",
    "    def prox(Z, t):\n",
    "        Z = Z.reshape(m, n)\n",
    "\n",
    "        # singular value shrinkage\n",
    "        if max_rank is None:\n",
    "            U, S, VT = svds(Z, k=min(Z.shape)-1)\n",
    "            U = np.fliplr(U)\n",
    "            S = np.flipud(S)\n",
    "            VT = np.flipud(VT)\n",
    "\n",
    "        else:\n",
    "            U, S, VT = randomized_svd(Z, max_rank)\n",
    "        S = np.maximum(S - lmbda*t, 0)\n",
    "        Z = np.dot(U * S, VT)\n",
    "\n",
    "        # clip values\n",
    "        if min_value is not None:\n",
    "            mask = Z < min_value\n",
    "            if mask.sum() > 0:\n",
    "                Z[mask] = min_value\n",
    "        if max_value is not None:\n",
    "            mask = Z > max_value\n",
    "            if mask.sum() > 0:\n",
    "                Z[mask] = max_value\n",
    "\n",
    "        return Z.flatten()\n",
    "\n",
    "    M_one_mask = (M == 1)\n",
    "    masked_weights = W[M_one_mask]\n",
    "    masked_X = X[M_one_mask]\n",
    "    def grad(Z):\n",
    "        grad = np.zeros((m, n))\n",
    "        grad[M_one_mask] = (Z.reshape(m, n)[M_one_mask] - masked_X) * masked_weights\n",
    "        return grad.flatten()\n",
    "\n",
    "    X_hat = apgpy.solve(grad, prox, np.zeros(m*n),\n",
    "                        max_iters=apg_max_iter,\n",
    "                        eps=apg_eps,\n",
    "                        use_gra=True,\n",
    "                        use_restart=apg_use_restart,\n",
    "                        quiet=True).reshape((m, n))\n",
    "    return X_hat"
   ]
  },
  {
   "cell_type": "code",
   "execution_count": null,
   "metadata": {},
   "outputs": [],
   "source": [
    "start = time.time()\n",
    "X_rect_hat_lstsq = weighted_softimpute(X_rect, mask_X_rect, prop_X_rect, lmbda=.0001)\n",
    "elapsed_lstsq = time.time() - start"
   ]
  },
  {
   "cell_type": "code",
   "execution_count": null,
   "metadata": {},
   "outputs": [],
   "source": [
    "normalized_error(X_rect_hat_lstsq, X_rect)"
   ]
  },
  {
   "cell_type": "code",
   "execution_count": null,
   "metadata": {
    "scrolled": true
   },
   "outputs": [],
   "source": [
    "elapsed_lstsq"
   ]
  },
  {
   "cell_type": "code",
   "execution_count": null,
   "metadata": {},
   "outputs": [],
   "source": []
  }
 ],
 "metadata": {
  "kernelspec": {
   "display_name": "Python 3",
   "language": "python",
   "name": "python3"
  },
  "language_info": {
   "codemirror_mode": {
    "name": "ipython",
    "version": 3
   },
   "file_extension": ".py",
   "mimetype": "text/x-python",
   "name": "python",
   "nbconvert_exporter": "python",
   "pygments_lexer": "ipython3",
   "version": "3.7.3"
  }
 },
 "nbformat": 4,
 "nbformat_minor": 2
}
