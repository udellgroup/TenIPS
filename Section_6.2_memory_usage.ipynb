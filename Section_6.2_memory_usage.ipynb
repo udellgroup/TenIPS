{
 "cells": [
  {
   "cell_type": "code",
   "execution_count": 4,
   "metadata": {},
   "outputs": [],
   "source": [
    "import numpy as np\n",
    "import math"
   ]
  },
  {
   "cell_type": "code",
   "execution_count": 85,
   "metadata": {},
   "outputs": [],
   "source": [
    "r = [5, 500, 500] # target rank\n",
    "I_all = [2200, 1080, 1920] # tensor size"
   ]
  },
  {
   "cell_type": "code",
   "execution_count": 86,
   "metadata": {},
   "outputs": [],
   "source": [
    "tenips_dof = np.prod(r) + np.sum([r[i] * I_all[i] - r[i] ** 2 for i in range(3)]) # TenIPS and HOSVD_w"
   ]
  },
  {
   "cell_type": "code",
   "execution_count": 89,
   "metadata": {},
   "outputs": [],
   "source": [
    "r_matrix = 1\n",
    "matrix_dof = r_matrix * (I_all[0] + I_all[1] * I_all[2] - 1) # RectUnfold"
   ]
  },
  {
   "cell_type": "code",
   "execution_count": 90,
   "metadata": {},
   "outputs": [
    {
     "data": {
      "text/plain": [
       "2075799"
      ]
     },
     "execution_count": 90,
     "metadata": {},
     "output_type": "execute_result"
    }
   ],
   "source": [
    "matrix_dof"
   ]
  },
  {
   "cell_type": "code",
   "execution_count": 91,
   "metadata": {},
   "outputs": [
    {
     "data": {
      "text/plain": [
       "2260975"
      ]
     },
     "execution_count": 91,
     "metadata": {},
     "output_type": "execute_result"
    }
   ],
   "source": [
    "tenips_dof"
   ]
  },
  {
   "cell_type": "code",
   "execution_count": 1,
   "metadata": {},
   "outputs": [],
   "source": [
    "def get_memory_in_GB(dof):\n",
    "    \"\"\"\n",
    "    Given degrees of freedom, compute smallest memory usage. \n",
    "    This is based on the that each float number in Python 3 takes 24 bytes.\n",
    "    \"\"\"\n",
    "    return dof * 24 / 1024 / 1024 / 1024"
   ]
  },
  {
   "cell_type": "code",
   "execution_count": 93,
   "metadata": {},
   "outputs": [
    {
     "data": {
      "text/plain": [
       "0.05053672939538956"
      ]
     },
     "execution_count": 93,
     "metadata": {},
     "output_type": "execute_result"
    }
   ],
   "source": [
    "get_memory_in_GB(tenips_dof)"
   ]
  },
  {
   "cell_type": "code",
   "execution_count": 94,
   "metadata": {},
   "outputs": [
    {
     "data": {
      "text/plain": [
       "0.046397723257541656"
      ]
     },
     "execution_count": 94,
     "metadata": {},
     "output_type": "execute_result"
    }
   ],
   "source": [
    "get_memory_in_GB(matrix_dof)"
   ]
  },
  {
   "cell_type": "code",
   "execution_count": 95,
   "metadata": {},
   "outputs": [
    {
     "data": {
      "text/plain": [
       "101.96685791015625"
      ]
     },
     "execution_count": 95,
     "metadata": {},
     "output_type": "execute_result"
    }
   ],
   "source": [
    "get_memory_in_GB(2200 * 1080 * 1920) # the memory needed to store the entire video tensor"
   ]
  },
  {
   "cell_type": "markdown",
   "metadata": {},
   "source": [
    "The helper function that finds the roots of quadratic equations; might be helpful to find target ranks in the case that the memory usage of TenIPS and RectUnfold are similar."
   ]
  },
  {
   "cell_type": "code",
   "execution_count": 14,
   "metadata": {},
   "outputs": [],
   "source": [
    "def equationroots(a, b, c):\n",
    "  \n",
    "    # calculating discriminant using formula \n",
    "    dis = b * b - 4 * a * c\n",
    "    sqrt_val = math.sqrt(abs(dis))\n",
    "      \n",
    "    # checking condition for discriminant \n",
    "    if dis > 0:  \n",
    "        print(\" real and different roots \") \n",
    "        print((-b + sqrt_val)/(2 * a))  \n",
    "        print((-b - sqrt_val)/(2 * a)) \n",
    "      \n",
    "    elif dis == 0:  \n",
    "        print(\" real and same roots\")  \n",
    "        print(-b / (2 * a))  \n",
    "      \n",
    "    # when discriminant is less than 0 \n",
    "    else: \n",
    "        print(\"Complex Roots\")  \n",
    "        print(- b / (2 * a), \" + i\", sqrt_val)  \n",
    "        print(- b / (2 * a), \" - i\", sqrt_val)"
   ]
  },
  {
   "cell_type": "code",
   "execution_count": 15,
   "metadata": {},
   "outputs": [
    {
     "name": "stdout",
     "output_type": "stream",
     "text": [
      " real and different roots \n",
      "0.38298494392074645\n",
      "2075799.617015056\n"
     ]
    }
   ],
   "source": [
    "equationroots(-1, I_all[0] + I_all[1] * I_all[2], -tenips_dof)"
   ]
  }
 ],
 "metadata": {
  "kernelspec": {
   "display_name": "Python 3",
   "language": "python",
   "name": "python3"
  },
  "language_info": {
   "codemirror_mode": {
    "name": "ipython",
    "version": 3
   },
   "file_extension": ".py",
   "mimetype": "text/x-python",
   "name": "python",
   "nbconvert_exporter": "python",
   "pygments_lexer": "ipython3",
   "version": "3.7.3"
  }
 },
 "nbformat": 4,
 "nbformat_minor": 2
}
