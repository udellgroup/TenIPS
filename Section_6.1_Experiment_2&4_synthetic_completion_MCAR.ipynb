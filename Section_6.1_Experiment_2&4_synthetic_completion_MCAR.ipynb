{
 "cells": [
  {
   "cell_type": "markdown",
   "metadata": {},
   "source": [
    "In the following implementation, \"paper1\" refers to the HOSVD_w algorithm in https://arxiv.org/pdf/2003.08537.pdf, and \"paper2\" refers to the SO-HOSVD algorithm in https://arxiv.org/pdf/1711.04934.pdf. \n",
    "\n",
    "It takes about 30 minutes to run the cells before the least squares part at the end."
   ]
  },
  {
   "cell_type": "code",
   "execution_count": 1,
   "metadata": {},
   "outputs": [],
   "source": [
    "import numpy as np\n",
    "import tensorly as tl\n",
    "import time\n",
    "import os\n",
    "from tensorly.decomposition import tucker, parafac, non_negative_tucker\n",
    "from tensorly import tucker_to_tensor\n",
    "from matplotlib import pyplot as plt\n",
    "from sklearn.utils.extmath import randomized_svd\n",
    "from itertools import combinations\n",
    "import multiprocessing as mp\n",
    "\n",
    "#import apgpy\n",
    "from scipy.sparse.linalg import svds\n",
    "import mkl\n",
    "mkl.set_num_threads(1)\n",
    "\n",
    "from util import std_logistic_function, get_square_set, square_unfolding, \\\n",
    "normalized_error, tenips_general, tenips_general_paper1, generate_orthogonal_mats, \\\n",
    "unfolding_based_ips_tensor_completion\n",
    "\n",
    "from matplotlib import pyplot as plt\n",
    "import matplotlib.ticker as ticker\n",
    "from matplotlib import rc\n",
    "rc('font', **{'family': 'serif', 'serif': ['Computer Modern'], 'weight': 'bold'})\n",
    "rc('text', usetex=True)"
   ]
  },
  {
   "cell_type": "markdown",
   "metadata": {},
   "source": [
    "generate data tensor"
   ]
  },
  {
   "cell_type": "code",
   "execution_count": 2,
   "metadata": {},
   "outputs": [],
   "source": [
    "# Low rank + noise\n",
    "r = [5, 5, 5, 5]\n",
    "I = 100\n",
    "N = len(r)\n",
    "noise_para = 0.1 # noise parameter\n",
    "\n",
    "np.random.seed(1)\n",
    "# real_core = tl.tensor(np.random.uniform(-1, 1, r))\n",
    "real_core = 200 * tl.tensor(np.random.randn(*r))\n",
    "factor_matrices = [generate_orthogonal_mats((I, r[0])) for i in range(N)]\n",
    "real_B = tucker_to_tensor((real_core, factor_matrices))\n",
    "fro_norm = np.linalg.norm(real_B)\n",
    "noise_coeff = noise_para * fro_norm / I ** (len(r)*1./2)\n",
    "noise_ten = tl.tensor(np.random.normal(0, 1, [I]*N))\n",
    "\n",
    "B = real_B + noise_coeff*noise_ten"
   ]
  },
  {
   "cell_type": "markdown",
   "metadata": {},
   "source": [
    "histogram of entry values in the data tensor"
   ]
  },
  {
   "cell_type": "code",
   "execution_count": 3,
   "metadata": {},
   "outputs": [
    {
     "data": {
      "text/plain": [
       "(array([       0., 10000000., 20000000., 30000000., 40000000., 50000000.,\n",
       "        60000000., 70000000., 80000000.]),\n",
       " <a list of 9 Text yticklabel objects>)"
      ]
     },
     "execution_count": 3,
     "metadata": {},
     "output_type": "execute_result"
    },
    {
     "data": {
      "image/png": "[encoded data removed]",
      "text/plain": [
       "<Figure size 432x288 with 1 Axes>"
      ]
     },
     "metadata": {
      "needs_background": "light"
     },
     "output_type": "display_data"
    }
   ],
   "source": [
    "fontsize = 30\n",
    "plt.hist(B.flatten())\n",
    "plt.ylabel(\"Number of entries\", fontsize=fontsize)\n",
    "plt.xlabel(\"Entry value of the data tensor\", fontsize=fontsize)\n",
    "plt.xticks(fontsize=fontsize)\n",
    "plt.yticks(fontsize=fontsize)"
   ]
  },
  {
   "cell_type": "code",
   "execution_count": 4,
   "metadata": {},
   "outputs": [],
   "source": [
    "def uniform_sampling(ratio, tensor):\n",
    "    \"\"\"\n",
    "    Uniformly sample the given tensor with given ratio. Output the sampled tensor with missing entries masked\n",
    "    by 0, and the numpy array of indices of sampled entries.\n",
    "    \"\"\"\n",
    "    sampled_tensor = tensor.copy()\n",
    "    select_indices = np.random.choice([True,False],tensor.shape,p=[ratio,1-ratio])\n",
    "    sampled_tensor[np.invert(select_indices)] = 0.0\n",
    "    return sampled_tensor, select_indices"
   ]
  },
  {
   "cell_type": "code",
   "execution_count": 5,
   "metadata": {},
   "outputs": [],
   "source": [
    "ratio_lst = list(np.arange(0.1, 0.75, 0.05)) # the list of subsampling ratios to iterate over"
   ]
  },
  {
   "cell_type": "markdown",
   "metadata": {},
   "source": [
    "TenIPS"
   ]
  },
  {
   "cell_type": "code",
   "execution_count": 6,
   "metadata": {},
   "outputs": [],
   "source": [
    "def normalized_error(a, b):\n",
    "    return np.linalg.norm(a - b) / np.linalg.norm(a)"
   ]
  },
  {
   "cell_type": "code",
   "execution_count": 7,
   "metadata": {},
   "outputs": [],
   "source": [
    "def get_tenips_error(ratio, B, r):\n",
    "    sampled_Bs, select_idxs = uniform_sampling(ratio, B)\n",
    "    prop_B = np.ones(sampled_Bs.shape) * ratio\n",
    "    mask_B = np.ones(sampled_Bs.shape)\n",
    "    mask_B[np.invert(select_idxs)] = 0.0\n",
    "    print(\"start ratio: {}\".format(ratio))\n",
    "    B_res = tenips_general(sampled_Bs, prop_B,r)\n",
    "    return normalized_error(B, B_res)\n",
    "\n",
    "def get_tenips_error_paper1(ratio, B, r):\n",
    "    sampled_Bs, select_idxs = uniform_sampling(ratio, B)\n",
    "    prop_B = np.ones(sampled_Bs.shape) * ratio\n",
    "    mask_B = np.ones(sampled_Bs.shape)\n",
    "    mask_B[np.invert(select_idxs)] = 0.0\n",
    "    print(\"start ratio: {}\".format(ratio))\n",
    "    B_res = tenips_general_paper1(sampled_Bs, prop_B, r)\n",
    "    return normalized_error(B, B_res)"
   ]
  },
  {
   "cell_type": "code",
   "execution_count": 8,
   "metadata": {},
   "outputs": [
    {
     "name": "stdout",
     "output_type": "stream",
     "text": [
      "start ratio: 0.1\n",
      "start ratio: 0.15000000000000002\n",
      "start ratio: 0.20000000000000004\n",
      "start ratio: 0.25000000000000006\n",
      "start ratio: 0.30000000000000004\n",
      "start ratio: 0.3500000000000001\n",
      "start ratio: 0.40000000000000013\n",
      "start ratio: 0.45000000000000007\n",
      "start ratio: 0.5000000000000001\n",
      "start ratio: 0.5500000000000002\n",
      "start ratio: 0.6000000000000002\n",
      "start ratio: 0.6500000000000001\n",
      "start ratio: 0.7000000000000002\n"
     ]
    }
   ],
   "source": [
    "p = mp.Pool(mp.cpu_count())\n",
    "results = [p.apply_async(get_tenips_error, args=[ratio, B, r]) for ratio in ratio_lst]\n",
    "p.close()\n",
    "p.join()\n",
    "\n",
    "norm_errors_general = [item.get() for item in results]"
   ]
  },
  {
   "cell_type": "code",
   "execution_count": 9,
   "metadata": {},
   "outputs": [
    {
     "name": "stdout",
     "output_type": "stream",
     "text": [
      "start ratio: 0.1\n",
      "start ratio: 0.15000000000000002\n",
      "start ratio: 0.20000000000000004\n",
      "start ratio: 0.25000000000000006\n",
      "start ratio: 0.30000000000000004\n",
      "start ratio: 0.3500000000000001\n",
      "start ratio: 0.40000000000000013\n",
      "start ratio: 0.45000000000000007\n",
      "start ratio: 0.5000000000000001\n",
      "start ratio: 0.5500000000000002\n",
      "start ratio: 0.6000000000000002\n",
      "start ratio: 0.6500000000000001\n",
      "start ratio: 0.7000000000000002\n"
     ]
    }
   ],
   "source": [
    "p = mp.Pool(mp.cpu_count())\n",
    "results = [p.apply_async(get_tenips_error_paper1, args=[ratio, B, r]) for ratio in ratio_lst]\n",
    "p.close()\n",
    "p.join()\n",
    "\n",
    "norm_errors_general_paper1 = [item.get() for item in results]"
   ]
  },
  {
   "cell_type": "markdown",
   "metadata": {},
   "source": [
    "unfoldings"
   ]
  },
  {
   "cell_type": "code",
   "execution_count": 10,
   "metadata": {},
   "outputs": [],
   "source": [
    "def get_unfolding_error(ratio, B, r):\n",
    "    x_mat_0 = tl.unfold(B,0)\n",
    "    x_mat_sq = square_unfolding(B)\n",
    "    sampled_Bs,select_idxs = uniform_sampling(ratio, B)\n",
    "    prop_B = np.ones(sampled_Bs.shape) * ratio\n",
    "    mask_B = np.ones(sampled_Bs.shape)\n",
    "    mask_B[np.invert(select_idxs)] = 0.0\n",
    "    print(\"start ratio: {}\".format(ratio))\n",
    "    x_res_square = unfolding_based_ips_tensor_completion(sampled_Bs, prop_B, r, unfolding='square')\n",
    "    x_res_unfolding0 = unfolding_based_ips_tensor_completion(sampled_Bs, prop_B, r, unfolding='0')\n",
    "    return normalized_error(x_mat_sq, x_res_square), normalized_error(x_mat_0, x_res_unfolding0)"
   ]
  },
  {
   "cell_type": "code",
   "execution_count": 11,
   "metadata": {},
   "outputs": [
    {
     "name": "stdout",
     "output_type": "stream",
     "text": [
      "start ratio: 0.1\n",
      "rank is 25\n",
      "start ratio: 0.15000000000000002\n",
      "rank is 25\n",
      "start ratio: 0.20000000000000004\n",
      "rank is 25\n",
      "start ratio: 0.25000000000000006\n",
      "rank is 25\n",
      "start ratio: 0.30000000000000004\n",
      "start ratio: 0.3500000000000001\n",
      "rank is 25\n",
      "rank is 25\n",
      "start ratio: 0.40000000000000013\n",
      "rank is 25\n",
      "start ratio: 0.45000000000000007\n",
      "rank is 25\n",
      "start ratio: 0.5000000000000001\n",
      "rank is 25rank is 5\n",
      "\n",
      "start ratio: 0.5500000000000002\n",
      "rank is 25\n",
      "start ratio: 0.6000000000000002\n",
      "rank is 25\n",
      "rank is 5\n",
      "rank is 5\n",
      "start ratio: 0.6500000000000001\n",
      "rank is 5\n",
      "rank is 25\n",
      "rank is 5\n",
      "start ratio: 0.7000000000000002\n",
      "rank is 25\n",
      "rank is 5\n",
      "rank is 5\n",
      "rank is 5\n",
      "rank is 5\n",
      "rank is 5\n",
      "rank is 5\n",
      "rank is 5\n",
      "rank is 5\n"
     ]
    }
   ],
   "source": [
    "p = mp.Pool(mp.cpu_count())\n",
    "results = [p.apply_async(get_unfolding_error, args=[ratio, B, r]) for ratio in ratio_lst]\n",
    "p.close()\n",
    "p.join()\n",
    "\n",
    "norm_errors_mat_square = [item.get()[0] for item in results]\n",
    "norm_errors_mat_unfolding0 = [item.get()[1] for item in results]"
   ]
  },
  {
   "cell_type": "code",
   "execution_count": 12,
   "metadata": {
    "scrolled": false
   },
   "outputs": [
    {
     "name": "stderr",
     "output_type": "stream",
     "text": [
      "findfont: Font family ['serif'] not found. Falling back to DejaVu Sans.\n"
     ]
    },
    {
     "data": {
      "image/png": "[encoded data removed]",
      "text/plain": [
       "<Figure size 432x288 with 1 Axes>"
      ]
     },
     "metadata": {
      "needs_background": "light"
     },
     "output_type": "display_data"
    }
   ],
   "source": [
    "fontsize = 50\n",
    "markersize = 8\n",
    "colors = ['blue', 'green', 'orange','red','yellow']\n",
    "\n",
    "plt.plot(ratio_lst, norm_errors_general, 'bo', linestyle='dashed', markersize=markersize, color=colors[0], linewidth=5, label=r\"\\textsc{TenIPS}\")\n",
    "plt.plot(ratio_lst, norm_errors_general_paper1, 'bo', marker='<', linestyle='dotted', alpha=0.8, markersize=markersize, color=colors[3], label=r\"\\textsc{HOSVD\\_w}\")\n",
    "plt.plot(ratio_lst, norm_errors_mat_square, 'bo', marker='v', linestyle='--', markersize=markersize, color=colors[1], label=r\"\\textsc{SqUnfold}\")\n",
    "plt.plot(ratio_lst, norm_errors_mat_unfolding0, 'bo', marker='s', linestyle='-', markersize=markersize, color=colors[2], label=r\"\\textsc{RectUnfold}\")\n",
    "\n",
    "\n",
    "plt.ylabel(\"relative error\", fontsize=fontsize-10)\n",
    "plt.xlabel(\"observation ratio\", fontsize=fontsize-10)\n",
    "xtick_pos = [0.2, 0.4, 0.6]\n",
    "ytick_pos = [0, 0.4, 0.8]\n",
    "plt.xticks(xtick_pos, fontsize=fontsize-10)\n",
    "plt.yticks(ytick_pos, fontsize=fontsize-10)\n",
    "\n",
    "plt.legend(loc='upper center', bbox_to_anchor=(.75, 1.05), fancybox=True, shadow=True, ncol=1, fontsize=fontsize-29)\n",
    "\n",
    "\n",
    "fig_path = 'figs'\n",
    "if not os.path.exists(fig_path):\n",
    "    os.makedirs(fig_path)\n",
    "    \n",
    "plt.savefig(os.path.join(fig_path, \"MCAR_relative_error_on_ratio.pdf\"), bbox_inches='tight')"
   ]
  },
  {
   "cell_type": "code",
   "execution_count": 13,
   "metadata": {},
   "outputs": [
    {
     "name": "stdout",
     "output_type": "stream",
     "text": [
      "start rank: 1\n",
      "start rank: 2\n",
      "start rank: 3\n",
      "start rank: 4\n",
      "start rank: 5\n",
      "start rank: 6\n",
      "start rank: 7\n",
      "start rank: 8\n",
      "start rank: 9\n"
     ]
    }
   ],
   "source": [
    "# TenIPS, propensity-reweighted, different ratio, different random seeds\n",
    "norm_errors_general_rank = []\n",
    "norm_errors_general_paper1_rank = []\n",
    "rank_list = [1,2,3,4,5,6,7,8,9]\n",
    "for rank in rank_list:\n",
    "    ratio = 0.4\n",
    "    r = [rank,rank,rank,rank]\n",
    "    sampled_Xs,select_idxs = uniform_sampling(ratio, B)\n",
    "    prop_X = np.ones(sampled_Xs.shape)*ratio\n",
    "    mask_X = np.ones(sampled_Xs.shape)\n",
    "    mask_X[np.invert(select_idxs)] = 0.0\n",
    "    print(\"start rank: {}\".format(rank))\n",
    "\n",
    "    X_res = tenips_general(sampled_Xs,prop_X,r)\n",
    "    X_res_paper1 = tenips_general_paper1(sampled_Xs,prop_X,r)\n",
    "    norm_errors_general_rank.append(normalized_error(B, X_res))\n",
    "    norm_errors_general_paper1_rank.append(normalized_error(B, X_res_paper1))"
   ]
  },
  {
   "cell_type": "code",
   "execution_count": 14,
   "metadata": {},
   "outputs": [
    {
     "name": "stdout",
     "output_type": "stream",
     "text": [
      "start rank: 1\n",
      "rank is 1\n",
      "rank is 1\n",
      "start rank: 2\n",
      "rank is 4\n",
      "rank is 2\n",
      "start rank: 3\n",
      "rank is 9\n",
      "rank is 3\n",
      "start rank: 4\n",
      "rank is 16\n",
      "rank is 4\n",
      "start rank: 5\n",
      "rank is 25\n",
      "rank is 5\n",
      "start rank: 6\n",
      "rank is 36\n",
      "rank is 6\n",
      "start rank: 7\n",
      "rank is 49\n",
      "rank is 7\n",
      "start rank: 8\n",
      "rank is 64\n",
      "rank is 8\n",
      "start rank: 9\n",
      "rank is 81\n",
      "rank is 9\n"
     ]
    }
   ],
   "source": [
    "# Matrix Completion, propensity reweighted, different ratio\n",
    "norm_errors_mat_square_rank = []\n",
    "norm_errors_mat_unfolding0_rank = []\n",
    "\n",
    "x_mat_0 = tl.unfold(B, 0)\n",
    "x_mat_sq = square_unfolding(B)\n",
    "for rank in rank_list:\n",
    "    ratio = 0.4\n",
    "    r = [rank,rank,rank,rank]\n",
    "    sampled_Xs,select_idxs = uniform_sampling(ratio, B)\n",
    "    prop_X = np.ones(sampled_Xs.shape)*ratio\n",
    "    mask_X = np.ones(sampled_Xs.shape)\n",
    "    mask_X[np.invert(select_idxs)] = 0.0\n",
    "    print(\"start rank: {}\".format(rank))\n",
    "    prop_X_sq = square_unfolding(prop_X)\n",
    "    prop_X_u0 = tl.unfold(prop_X, 0)\n",
    "    x_res_square = unfolding_based_ips_tensor_completion(sampled_Xs, prop_X, r, unfolding='square')\n",
    "    x_res_unfolding0 = unfolding_based_ips_tensor_completion(sampled_Xs, prop_X, r, unfolding='0')\n",
    "    norm_errors_mat_square_rank.append(normalized_error(x_mat_sq, x_res_square))\n",
    "    norm_errors_mat_unfolding0_rank.append(normalized_error(x_mat_0, x_res_unfolding0))"
   ]
  },
  {
   "cell_type": "markdown",
   "metadata": {},
   "source": [
    "Figure for Experiment 4 (varying target rank)"
   ]
  },
  {
   "cell_type": "code",
   "execution_count": 15,
   "metadata": {},
   "outputs": [
    {
     "data": {
      "image/png": "[encoded data removed]",
      "text/plain": [
       "<Figure size 432x288 with 1 Axes>"
      ]
     },
     "metadata": {
      "needs_background": "light"
     },
     "output_type": "display_data"
    }
   ],
   "source": [
    "fontsize = 50\n",
    "markersize = 12\n",
    "colors = ['blue', 'green', 'orange','red','yellow']\n",
    "\n",
    "plt.plot(rank_list, norm_errors_general_rank, 'bo', linestyle='dashed', markersize=markersize, color=colors[0],linewidth=5, label=r\"\\textsc{TenIPS}\")\n",
    "plt.plot(rank_list, norm_errors_general_paper1_rank, 'bo', marker='<', linestyle='dotted', alpha=0.8, markersize=markersize, color=colors[3], label=r\"\\textsc{HOSVD\\_w}\")\n",
    "plt.plot(rank_list, norm_errors_mat_square_rank, 'bo', marker='v', linestyle='--', markersize=markersize, color=colors[1], label=r\"\\textsc{SqUnfold}\")\n",
    "plt.plot(rank_list, norm_errors_mat_unfolding0_rank, 'bo', marker='s', linestyle='-', markersize=markersize, color=colors[2], label=r\"\\textsc{RectUnfold}\")\n",
    "\n",
    "\n",
    "plt.ylabel(\"relative error\", fontsize=fontsize-10)\n",
    "plt.xlabel(\"target rank\", fontsize=fontsize-10)\n",
    "xtick_pos = [2, 4, 6, 8]\n",
    "ytick_pos = [0, 0.5, 1]\n",
    "plt.xticks(xtick_pos, fontsize=fontsize-10)\n",
    "plt.yticks(ytick_pos, fontsize=fontsize-10)\n",
    "\n",
    "# legend = plt.legend(loc='upper center', bbox_to_anchor=(.7, -1.05), fancybox=True, shadow=False, ncol=4, fontsize=fontsize-15)\n",
    "\n",
    "# def export_legend(legend, expand=[-5,-5,5,5]):\n",
    "#     fig  = legend.figure\n",
    "#     fig.canvas.draw()\n",
    "#     bbox  = legend.get_window_extent()\n",
    "#     bbox = bbox.from_extents(*(bbox.extents + np.array(expand)))\n",
    "#     bbox = bbox.transformed(fig.dpi_scale_trans.inverted())\n",
    "#     fig.savefig(os.path.join(fig_path, \"legend_relative_error_on_target_rank.pdf\"), bbox_inches=bbox)\n",
    "    \n",
    "# export_legend(legend)\n",
    "\n",
    "fig_path = 'figs'\n",
    "if not os.path.exists(fig_path):\n",
    "    os.makedirs(fig_path)\n",
    "    \n",
    "plt.savefig(os.path.join(fig_path, \"MCAR_relative_error_on_target_rank.pdf\"), bbox_inches='tight')"
   ]
  },
  {
   "cell_type": "markdown",
   "metadata": {},
   "source": [
    "least squares"
   ]
  },
  {
   "cell_type": "code",
   "execution_count": null,
   "metadata": {},
   "outputs": [],
   "source": [
    "ratio = 0.1\n",
    "sampled_Bs, select_idxs = uniform_sampling(ratio, B)\n",
    "prop_B = np.ones(sampled_Bs.shape) * ratio\n",
    "mask_B = np.ones(sampled_Bs.shape)\n",
    "mask_B[np.invert(select_idxs)] = 0.0\n",
    "B_rect = tl.unfold(B, mode=0)\n",
    "mask_B_rect = tl.unfold(mask_B, mode=0)\n",
    "prop_B_rect = tl.unfold(prop_B, mode=0)"
   ]
  },
  {
   "cell_type": "code",
   "execution_count": null,
   "metadata": {},
   "outputs": [],
   "source": [
    "def one_bit_MC_fully_observed(M, link, tau, gamma, max_rank=None,\n",
    "                              apg_max_iter=500, apg_eps=1e-12,\n",
    "                              apg_use_restart=True):\n",
    "    m = M.shape[0]\n",
    "    n = M.shape[1]\n",
    "    tau_sqrt_mn = tau * np.sqrt(m*n)\n",
    "\n",
    "    def prox(_A, t):\n",
    "        _A = _A.reshape(m, n)\n",
    "        if max_rank is None:\n",
    "            U, S, VT = svds(_A, k=min(_A.shape))\n",
    "            U = np.fliplr(U)\n",
    "            S = np.flipud(S)\n",
    "            VT = np.flipud(VT)\n",
    "        else:\n",
    "            U, S, VT = randomized_svd(_A, max_rank)\n",
    "        nuclear_norm = np.sum(S)\n",
    "        if nuclear_norm > tau_sqrt_mn:\n",
    "            S *= tau_sqrt_mn / nuclear_norm\n",
    "            _A = np.dot(U * S, VT)\n",
    "        mask = np.abs(_A) > gamma\n",
    "        if mask.sum() > 0:\n",
    "            _A[mask] = np.sign(_A[mask]) * gamma\n",
    "\n",
    "        return _A.flatten()\n",
    "\n",
    "    M_one_mask = (M == 1)\n",
    "    M_zero_mask = (M == 0)\n",
    "    def grad(_A):\n",
    "        _A = _A.reshape(m, n)\n",
    "        return (std_logistic_function(_A) - M).flatten()\n",
    "\n",
    "    A_hat = apgpy.solve(grad, prox, np.zeros(m*n),\n",
    "                        max_iters=apg_max_iter,\n",
    "                        eps=apg_eps,\n",
    "                        use_gra=True,\n",
    "                        use_restart=apg_use_restart,\n",
    "                        quiet=True)\n",
    "    P_hat = link(A_hat.reshape(m, n))\n",
    "    return P_hat"
   ]
  },
  {
   "cell_type": "code",
   "execution_count": null,
   "metadata": {},
   "outputs": [],
   "source": [
    "def weighted_softimpute(X, M, W, lmbda, max_rank=None,\n",
    "                        min_value=None, max_value=None,\n",
    "                        apg_max_iter=100, apg_eps=1e-6,\n",
    "                        apg_use_restart=True):\n",
    "    m = X.shape[0]\n",
    "    n = X.shape[1]\n",
    "\n",
    "    def prox(Z, t):\n",
    "        Z = Z.reshape(m, n)\n",
    "\n",
    "        if max_rank is None:\n",
    "            U, S, VT = svds(Z, k=min(Z.shape)-1)\n",
    "            U = np.fliplr(U)\n",
    "            S = np.flipud(S)\n",
    "            VT = np.flipud(VT)\n",
    "\n",
    "        else:\n",
    "            U, S, VT = randomized_svd(Z, max_rank)\n",
    "        S = np.maximum(S - lmbda*t, 0)\n",
    "        Z = np.dot(U * S, VT)\n",
    "\n",
    "        # clip values\n",
    "        if min_value is not None:\n",
    "            mask = Z < min_value\n",
    "            if mask.sum() > 0:\n",
    "                Z[mask] = min_value\n",
    "        if max_value is not None:\n",
    "            mask = Z > max_value\n",
    "            if mask.sum() > 0:\n",
    "                Z[mask] = max_value\n",
    "\n",
    "        return Z.flatten()\n",
    "\n",
    "    M_one_mask = (M == 1)\n",
    "    masked_weights = W[M_one_mask]\n",
    "    masked_X = X[M_one_mask]\n",
    "    def grad(Z):\n",
    "        grad = np.zeros((m, n))\n",
    "        grad[M_one_mask] = (Z.reshape(m, n)[M_one_mask] - masked_X) * masked_weights\n",
    "        return grad.flatten()\n",
    "\n",
    "    X_hat = apgpy.solve(grad, prox, np.zeros(m*n),\n",
    "                        max_iters=apg_max_iter,\n",
    "                        eps=apg_eps,\n",
    "                        use_gra=True,\n",
    "                        use_restart=apg_use_restart,\n",
    "                        quiet=True).reshape((m, n))\n",
    "    return X_hat\n"
   ]
  },
  {
   "cell_type": "code",
   "execution_count": null,
   "metadata": {},
   "outputs": [],
   "source": [
    "start = time.time()\n",
    "B_rect_hat_lstsq = weighted_softimpute(B_rect, mask_B_rect, prop_B_rect, lmbda=.0001)\n",
    "elapsed_lstsq = time.time() - start"
   ]
  },
  {
   "cell_type": "code",
   "execution_count": null,
   "metadata": {},
   "outputs": [],
   "source": [
    "normalized_error(B_rect_hat_lstsq, B_rect)"
   ]
  },
  {
   "cell_type": "code",
   "execution_count": null,
   "metadata": {},
   "outputs": [],
   "source": [
    "elapsed_lstsq"
   ]
  }
 ],
 "metadata": {
  "kernelspec": {
   "display_name": "Python 3",
   "language": "python",
   "name": "python3"
  },
  "language_info": {
   "codemirror_mode": {
    "name": "ipython",
    "version": 3
   },
   "file_extension": ".py",
   "mimetype": "text/x-python",
   "name": "python",
   "nbconvert_exporter": "python",
   "pygments_lexer": "ipython3",
   "version": "3.7.3"
  }
 },
 "nbformat": 4,
 "nbformat_minor": 2
}
