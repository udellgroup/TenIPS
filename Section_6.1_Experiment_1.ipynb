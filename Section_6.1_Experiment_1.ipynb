{
 "cells": [
  {
   "cell_type": "code",
   "execution_count": 1,
   "metadata": {},
   "outputs": [],
   "source": [
    "import numpy as np\n",
    "import tensorly as tl\n",
    "import os\n",
    "from tensorly.decomposition import tucker, parafac, non_negative_tucker\n",
    "from tensorly import tucker_to_tensor\n",
    "\n",
    "from sklearn.utils.extmath import randomized_svd\n",
    "from itertools import combinations, product\n",
    "import multiprocessing as mp\n",
    "import time\n",
    "\n",
    "import apgpy\n",
    "from scipy.sparse.linalg import svds\n",
    "import mkl\n",
    "mkl.set_num_threads(1)\n",
    "\n",
    "from util import std_logistic_function, get_square_set, square_unfolding, \\\n",
    "normalized_error, tenips_general, tenips_general_paper1, generate_orthogonal_mats\n",
    "\n",
    "from matplotlib import pyplot as plt\n",
    "import matplotlib.ticker as ticker\n",
    "from matplotlib import rc\n",
    "rc('font', **{'family': 'serif', 'serif': ['Computer Modern'], 'weight': 'bold'})\n",
    "rc('text', usetex=True)"
   ]
  },
  {
   "cell_type": "markdown",
   "metadata": {},
   "source": [
    "## Part I: function definitions"
   ]
  },
  {
   "cell_type": "markdown",
   "metadata": {},
   "source": [
    "1-bit matrix completion"
   ]
  },
  {
   "cell_type": "code",
   "execution_count": 23,
   "metadata": {},
   "outputs": [],
   "source": [
    "def one_bit_MC_fully_observed(M, link, tau, gamma, max_rank=None,\n",
    "                              apg_max_iter=500, apg_eps=1e-12,\n",
    "                              apg_use_restart=True):\n",
    "    \"\"\"\n",
    "    Do one-bit matrix completion on the mask matrix M. \n",
    "    \"\"\"\n",
    "    m = M.shape[0]\n",
    "    n = M.shape[1]\n",
    "    tau_sqrt_mn = tau * np.sqrt(m*n)\n",
    "\n",
    "    def prox(_A, t):\n",
    "        _A = _A.reshape(m, n)\n",
    "        if max_rank is None:\n",
    "            U, S, VT = np.linalg.svd(_A, full_matrices=False)\n",
    "        else:\n",
    "            U, S, VT = randomized_svd(_A, max_rank)\n",
    "        nuclear_norm = np.sum(S)\n",
    "        if nuclear_norm > tau_sqrt_mn:\n",
    "            S *= tau_sqrt_mn / nuclear_norm\n",
    "            _A = np.dot(U * S, VT)\n",
    "\n",
    "        mask = np.abs(_A) > gamma\n",
    "        if mask.sum() > 0:\n",
    "            _A[mask] = np.sign(_A[mask]) * gamma\n",
    "\n",
    "        return _A.flatten()\n",
    "\n",
    "    M_one_mask = (M == 1)\n",
    "    M_zero_mask = (M == 0)\n",
    "    def grad(_A):\n",
    "        _A = _A.reshape(m, n)\n",
    "        return (std_logistic_function(_A) - M).flatten()\n",
    "\n",
    "    A_hat = apgpy.solve(grad, prox, np.zeros(m*n),\n",
    "                        max_iters=apg_max_iter,\n",
    "                        eps=apg_eps,\n",
    "                        use_gra=True,\n",
    "                        use_restart=apg_use_restart,\n",
    "                        quiet=True)\n",
    "    P_hat = link(A_hat.reshape(m, n))\n",
    "    return P_hat"
   ]
  },
  {
   "cell_type": "markdown",
   "metadata": {},
   "source": [
    "## Part 2: experiments"
   ]
  },
  {
   "cell_type": "markdown",
   "metadata": {},
   "source": [
    "Parameter setup for experiments. For Figure 5 in supplementary material, Section 2, change I to 5 and orders to np.linspace(4, 10, 7).astype(int)."
   ]
  },
  {
   "cell_type": "code",
   "execution_count": 55,
   "metadata": {},
   "outputs": [],
   "source": [
    "N = 4\n",
    "r = [2 for _ in range(N)]\n",
    "I = 8\n",
    "orders = np.linspace(4, 8, 5).astype(int)"
   ]
  },
  {
   "cell_type": "markdown",
   "metadata": {},
   "source": [
    "generate data tensor $\\mathscr{B}$"
   ]
  },
  {
   "cell_type": "code",
   "execution_count": 56,
   "metadata": {},
   "outputs": [],
   "source": [
    "# # Low rank + noise\n",
    "# np.random.seed(1)\n",
    "# noise_para = 0.1 # noise parameter\n",
    "\n",
    "# real_core = 100 * tl.tensor(np.random.randn(*r))\n",
    "# factor_matrices = [generate_orthogonal_mats((I,r[0])) for i in range(N)]\n",
    "# real_B = tucker_to_tensor((real_core, factor_matrices)) # noiseless\n",
    "# fro_norm = np.linalg.norm(real_B)\n",
    "# noise_coeff = noise_para * fro_norm / I ** (len(r)*1./2)\n",
    "# noise_ten = tl.tensor(np.random.normal(0,1,[I]*N))\n",
    "\n",
    "# B = real_B + noise_coeff*noise_ten # noisy"
   ]
  },
  {
   "cell_type": "markdown",
   "metadata": {},
   "source": [
    "generate parameter tensor $\\mathscr{A}$"
   ]
  },
  {
   "cell_type": "code",
   "execution_count": 57,
   "metadata": {},
   "outputs": [],
   "source": [
    "A_noise_para = 0.1 # noise parameter\n",
    "np.random.seed(2)\n",
    "A_real_core = 2 * np.random.uniform(-1, 1, r)\n",
    "A_factor_matrices = [generate_orthogonal_mats((I, r[0])) for i in range(N)]\n",
    "real_A = tucker_to_tensor((A_real_core, A_factor_matrices)) # noiseless\n",
    "A_fro_norm = np.linalg.norm(real_A)\n",
    "A_noise_coeff = A_noise_para * A_fro_norm / I ** (len(r)*1./2)\n",
    "A_noise_ten = tl.tensor(np.random.normal(0,1,[I]*N))\n",
    "\n",
    "A = real_A + A_noise_coeff * A_noise_ten #noisy"
   ]
  },
  {
   "cell_type": "markdown",
   "metadata": {},
   "source": [
    "get propensity tensor $\\mathscr{P}$"
   ]
  },
  {
   "cell_type": "code",
   "execution_count": 58,
   "metadata": {},
   "outputs": [],
   "source": [
    "P = std_logistic_function(A)"
   ]
  },
  {
   "cell_type": "markdown",
   "metadata": {},
   "source": [
    "propensity distribution"
   ]
  },
  {
   "cell_type": "code",
   "execution_count": 59,
   "metadata": {},
   "outputs": [
    {
     "data": {
      "text/plain": [
       "(array([   3.,   11.,   64.,  353., 1765., 1523.,  297.,   61.,   14.,\n",
       "           5.]),\n",
       " array([0.42077697, 0.43678848, 0.4528    , 0.46881151, 0.48482302,\n",
       "        0.50083453, 0.51684605, 0.53285756, 0.54886907, 0.56488058,\n",
       "        0.5808921 ]),\n",
       " <a list of 10 Patch objects>)"
      ]
     },
     "execution_count": 59,
     "metadata": {},
     "output_type": "execute_result"
    },
    {
     "data": {
      "image/png": "[encoded data removed]",
      "text/plain": [
       "<Figure size 432x288 with 1 Axes>"
      ]
     },
     "metadata": {
      "needs_background": "light"
     },
     "output_type": "display_data"
    }
   ],
   "source": [
    "plt.hist(P.flatten())"
   ]
  },
  {
   "cell_type": "markdown",
   "metadata": {},
   "source": [
    "Case 1: rectangular unfolding"
   ]
  },
  {
   "cell_type": "code",
   "execution_count": 60,
   "metadata": {},
   "outputs": [],
   "source": [
    "A_rect = tl.unfold(A, mode=0)\n",
    "_, A_Sigma, _ = randomized_svd(A_rect, n_components=10, n_iter=20, random_state=None)\n",
    "alpha_of_A_rect = np.max(np.abs(A_rect))\n",
    "theta_of_A_rect = np.sum(A_Sigma) / (np.sqrt(np.prod(A_rect.shape)))"
   ]
  },
  {
   "cell_type": "code",
   "execution_count": 61,
   "metadata": {},
   "outputs": [
    {
     "data": {
      "text/plain": [
       "array([3.29865596, 1.36562825, 0.1363851 , 0.13379199, 0.13027435,\n",
       "       0.1250826 , 0.12043247, 0.11833373])"
      ]
     },
     "execution_count": 61,
     "metadata": {},
     "output_type": "execute_result"
    }
   ],
   "source": [
    "A_Sigma"
   ]
  },
  {
   "cell_type": "code",
   "execution_count": 62,
   "metadata": {
    "scrolled": true
   },
   "outputs": [
    {
     "data": {
      "text/plain": [
       "0.08482163194454842"
      ]
     },
     "execution_count": 62,
     "metadata": {},
     "output_type": "execute_result"
    }
   ],
   "source": [
    "theta_of_A_rect"
   ]
  },
  {
   "cell_type": "code",
   "execution_count": 63,
   "metadata": {},
   "outputs": [
    {
     "data": {
      "text/plain": [
       "0.3264366005679022"
      ]
     },
     "execution_count": 63,
     "metadata": {},
     "output_type": "execute_result"
    }
   ],
   "source": [
    "alpha_of_A_rect"
   ]
  },
  {
   "cell_type": "markdown",
   "metadata": {},
   "source": [
    "Case 2: square unfolding"
   ]
  },
  {
   "cell_type": "code",
   "execution_count": 64,
   "metadata": {},
   "outputs": [],
   "source": [
    "A_sq = square_unfolding(A)\n",
    "_, A_Sigma, _ = randomized_svd(A_sq, n_components=10, n_iter=20, random_state=None)\n",
    "alpha_of_A_sq = np.max(np.abs(A_sq))\n",
    "theta_of_A_sq = np.sum(A_Sigma) / (np.sqrt(np.prod(A_sq.shape)))"
   ]
  },
  {
   "cell_type": "code",
   "execution_count": 65,
   "metadata": {},
   "outputs": [
    {
     "data": {
      "text/plain": [
       "0.0980229845656162"
      ]
     },
     "execution_count": 65,
     "metadata": {},
     "output_type": "execute_result"
    }
   ],
   "source": [
    "theta_of_A_sq"
   ]
  },
  {
   "cell_type": "code",
   "execution_count": 66,
   "metadata": {},
   "outputs": [
    {
     "data": {
      "text/plain": [
       "0.3264366005679022"
      ]
     },
     "execution_count": 66,
     "metadata": {},
     "output_type": "execute_result"
    }
   ],
   "source": [
    "alpha_of_A_sq"
   ]
  },
  {
   "cell_type": "markdown",
   "metadata": {},
   "source": [
    "Model A: MCAR"
   ]
  },
  {
   "cell_type": "code",
   "execution_count": 67,
   "metadata": {},
   "outputs": [],
   "source": [
    "def uniform_sampling(ratio, tensor):\n",
    "    \"\"\"\n",
    "    Uniformly sample the given tensor with given ratio. Output the sampled tensor with missing entries masked\n",
    "    by 0, and the numpy array of indices of sampled entries.\n",
    "    \"\"\"\n",
    "    sampled_tensor = tensor.copy()\n",
    "    select_indices = np.random.choice([True,False],tensor.shape,p=[ratio,1-ratio])\n",
    "    sampled_tensor[np.invert(select_indices)] = 0.0\n",
    "    return sampled_tensor, select_indices"
   ]
  },
  {
   "cell_type": "code",
   "execution_count": 68,
   "metadata": {},
   "outputs": [],
   "source": [
    "def get_propensity_errors_from_A(A, tau=10, gamma=10, max_rank=10, method='rectangular'):\n",
    "    \"\"\"\n",
    "    Do one-bit matrix completion on one kind of matricization of the parameter tensor A.    \n",
    "    \"\"\"\n",
    "    print(\"tau: {}, gamma: {}, max_rank: {}\".format(tau, gamma, max_rank))\n",
    "    N = np.ndim(A)    \n",
    "    prop_X = std_logistic_function(A)\n",
    "    mask_X = (np.random.uniform(0, 1, A.shape) < prop_X).astype(int)\n",
    "\n",
    "    if method == 'rectangular':\n",
    "        prop_X_rect = tl.unfold(prop_X, mode=0)\n",
    "        mask_X_rect = tl.unfold(mask_X, mode=0)\n",
    "\n",
    "        start = time.time()\n",
    "        prop_X_rect_pred = one_bit_MC_fully_observed(mask_X_rect, std_logistic_function, \n",
    "                                                     tau=tau, gamma=gamma, max_rank=max_rank)\n",
    "        elapsed_rect = time.time() - start\n",
    "\n",
    "        relative_error_rect = np.linalg.norm(prop_X_rect_pred - prop_X_rect) / np.linalg.norm(prop_X_rect)\n",
    "        \n",
    "        return relative_error_rect, elapsed_rect\n",
    "\n",
    "    if method == 'square':\n",
    "        prop_X_sq = square_unfolding(prop_X)\n",
    "        mask_X_sq = square_unfolding(mask_X)\n",
    "    \n",
    "        start = time.time()\n",
    "        prop_X_sq_pred = one_bit_MC_fully_observed(mask_X_sq, std_logistic_function, \n",
    "                                                     tau=tau, gamma=gamma, max_rank=max_rank)\n",
    "        elapsed_sq = time.time() - start\n",
    "\n",
    "        relative_error_sq = np.linalg.norm(prop_X_sq_pred - prop_X_sq) / np.linalg.norm(prop_X_sq)\n",
    "        \n",
    "        return relative_error_sq, elapsed_sq\n",
    "    \n",
    "    if method == 'sliced':\n",
    "        lengths_of_fixed_dims = [I for _ in range(N - 2)]\n",
    "        indices_of_fixed_dims = list(product(*[np.arange(i) for i in lengths_of_fixed_dims]))\n",
    "        \n",
    "        start = time.time()\n",
    "        for idx, ind_fixed in enumerate(indices_of_fixed_dims):\n",
    "            print(idx)\n",
    "            prop_X_slice = prop_X[ind_fixed]\n",
    "            mask_X_slice = mask_X[ind_fixed]\n",
    "            A_slice = A[ind_fixed]\n",
    "            \n",
    "            _, A_Sigma, _ = randomized_svd(A_slice, n_components=10, n_iter=20, random_state=None)\n",
    "            alpha_of_A_slice = np.max(np.abs(A_slice))\n",
    "            theta_of_A_slice = np.sum(A_Sigma) / (np.sqrt(np.prod(A_slice.shape)))\n",
    "            \n",
    "            prop_X_slice_pred = one_bit_MC_fully_observed(mask_X_slice, std_logistic_function, \n",
    "                                                     tau=theta_of_A_slice, gamma=alpha_of_A_slice, max_rank=None)\n",
    "\n",
    "            if idx == 0:\n",
    "                prop_X_combined = prop_X_slice.copy()\n",
    "                prop_X_combined_pred = prop_X_slice_pred.copy()\n",
    "            else:\n",
    "                prop_X_combined = np.concatenate((prop_X_combined, prop_X_slice), axis=0)\n",
    "                prop_X_combined_pred = np.concatenate((prop_X_combined_pred, prop_X_slice_pred), axis=0)\n",
    "\n",
    "        elapsed_sliced = time.time() - start\n",
    "        relative_error_sliced = np.linalg.norm(prop_X_combined_pred - prop_X_combined) / np.linalg.norm(prop_X_combined)\n",
    "    \n",
    "        return relative_error_sliced, elapsed_sliced    "
   ]
  },
  {
   "cell_type": "code",
   "execution_count": 69,
   "metadata": {},
   "outputs": [],
   "source": [
    "def get_propensity_errors_uniform_at_tensor_order(N, ratio=0.4, parameter_ratio=1):\n",
    "    \"\"\"\n",
    "    Given a tensor order N, get the propensity estimation error when sampling uniformly at a given ratio.\n",
    "    \"\"\"\n",
    "    print(\"order: {}\".format(N))\n",
    "    \n",
    "    # generate the low multilinear rank + noise data tensor\n",
    "    r = [2 for _ in range(N)]\n",
    "    np.random.seed(1)\n",
    "    noise_para = 0.1 # noise parameter\n",
    "    real_core = tl.tensor(np.random.randn(*r))\n",
    "    factor_matrices = [generate_orthogonal_mats((I,r[0])) for i in range(N)]\n",
    "    real_B = tucker_to_tensor((real_core, factor_matrices))\n",
    "    fro_norm = np.linalg.norm(real_B)\n",
    "    noise_coeff = noise_para * fro_norm / I ** (len(r)*1./2)\n",
    "    noise_ten = tl.tensor(np.random.normal(0,1,[I]*N))\n",
    "    B = real_B + noise_coeff*noise_ten\n",
    "    \n",
    "    _, select_idxs = uniform_sampling(ratio=ratio, tensor=B)\n",
    "    prop_B = np.ones(B.shape) * ratio\n",
    "    mask_B = np.ones(B.shape)\n",
    "    mask_B[np.invert(select_idxs)] = 0.0\n",
    "\n",
    "    A = inverse_logistic_function(prop_B)\n",
    "    \n",
    "    A_rect = tl.unfold(A, mode=0)\n",
    "    _, A_Sigma, _ = randomized_svd(A_rect, n_components=10, n_iter=20, random_state=None)\n",
    "    alpha_of_A_rect = np.max(np.abs(A_rect))\n",
    "    theta_of_A_rect = np.sum(A_Sigma) / (np.sqrt(np.prod(A_rect.shape)))\n",
    "    \n",
    "    relative_error_rect, elapsed_rect = get_propensity_errors_from_A(\n",
    "        A, tau=parameter_ratio*theta_of_A_rect, gamma=parameter_ratio*alpha_of_A_rect, max_rank=None, method='rectangular')\n",
    "    \n",
    "    A_sq = square_unfolding(A)\n",
    "    _, A_Sigma, _ = randomized_svd(A_sq, n_components=10, n_iter=20, random_state=None)\n",
    "    alpha_of_A_sq = np.max(np.abs(A_sq))\n",
    "    theta_of_A_sq = np.sum(A_Sigma) / (np.sqrt(np.prod(A_sq.shape)))\n",
    "    \n",
    "    relative_error_sq, elapsed_sq = get_propensity_errors_from_A(\n",
    "        A, tau=parameter_ratio*theta_of_A_sq, gamma=parameter_ratio*alpha_of_A_sq, max_rank=None, method='square')\n",
    "    \n",
    "    print(\"order: {} finished\".format(N))\n",
    "    return relative_error_rect, relative_error_sq, elapsed_rect, elapsed_sq"
   ]
  },
  {
   "cell_type": "markdown",
   "metadata": {},
   "source": [
    "run an instance of the 1-bit completion experiment"
   ]
  },
  {
   "cell_type": "code",
   "execution_count": 70,
   "metadata": {},
   "outputs": [
    {
     "name": "stdout",
     "output_type": "stream",
     "text": [
      "order: 6\n",
      "tau: 0.8109302162163426, gamma: 0.8109302162163288, max_rank: None\n",
      "tau: 0.8109302162163267, gamma: 0.8109302162163288, max_rank: None\n",
      "order: 6 finished\n"
     ]
    },
    {
     "data": {
      "text/plain": [
       "(0.27669536503287484,\n",
       " 0.24611128921344247,\n",
       " 0.08511924743652344,\n",
       " 0.3114736080169678)"
      ]
     },
     "execution_count": 70,
     "metadata": {},
     "output_type": "execute_result"
    }
   ],
   "source": [
    "get_propensity_errors_uniform_at_tensor_order(6, ratio=0.4, parameter_ratio=2)"
   ]
  },
  {
   "cell_type": "markdown",
   "metadata": {},
   "source": [
    "run the 1-bit completion experiments in parallel for $\\tau = \\theta$, $\\gamma = \\alpha$"
   ]
  },
  {
   "cell_type": "code",
   "execution_count": 71,
   "metadata": {},
   "outputs": [
    {
     "name": "stdout",
     "output_type": "stream",
     "text": [
      "order: 6\n",
      "order: 7\n",
      "order: 5\n",
      "order: 4\n",
      "order: 8\n",
      "tau: 0.40546510810816344, gamma: 0.4054651081081644, max_rank: None\n",
      "tau: 0.40546510810816394, gamma: 0.4054651081081644, max_rank: None\n",
      "tau: 0.40546510810816466, gamma: 0.4054651081081644, max_rank: None\n",
      "order: 4 finished\n",
      "tau: 0.4054651081081643, gamma: 0.4054651081081644, max_rank: None\n",
      "order: 5 finished\n",
      "tau: 0.4054651081081713, gamma: 0.4054651081081644, max_rank: None\n",
      "tau: 0.40546510810816333, gamma: 0.4054651081081644, max_rank: None\n",
      "order: 6 finished\n",
      "tau: 0.40546510810810327, gamma: 0.4054651081081644, max_rank: None\n",
      "tau: 0.4054651081081637, gamma: 0.4054651081081644, max_rank: None\n",
      "order: 7 finished\n",
      "tau: 0.4054651081072302, gamma: 0.4054651081081644, max_rank: None\n",
      "tau: 0.4054651081081647, gamma: 0.4054651081081644, max_rank: None\n",
      "order: 8 finished\n"
     ]
    }
   ],
   "source": [
    "p = mp.Pool(mp.cpu_count())\n",
    "results = [p.apply_async(get_propensity_errors_uniform_at_tensor_order, args=[N, 0.4, 1]) for N in orders]\n",
    "p.close()\n",
    "p.join()"
   ]
  },
  {
   "cell_type": "code",
   "execution_count": 72,
   "metadata": {},
   "outputs": [],
   "source": [
    "errors_MCAR_rect = []\n",
    "errors_MCAR_sq = []\n",
    "elapsed_times_MCAR_rect = []\n",
    "elapsed_times_MCAR_sq = []\n",
    "\n",
    "for result in results:\n",
    "    errors_MCAR_rect.append(result.get()[0])\n",
    "    errors_MCAR_sq.append(result.get()[1])\n",
    "    elapsed_times_MCAR_rect.append(result.get()[2])\n",
    "    elapsed_times_MCAR_sq.append(result.get()[3])\n",
    "\n",
    "errors_MCAR_rect_dict = dict(zip(orders, errors_MCAR_rect))\n",
    "errors_MCAR_sq_dict = dict(zip(orders, errors_MCAR_sq))"
   ]
  },
  {
   "cell_type": "markdown",
   "metadata": {},
   "source": [
    "run the 1-bit completion experiments in parallel for $\\tau = 2\\theta$, $\\gamma = 2\\alpha$"
   ]
  },
  {
   "cell_type": "code",
   "execution_count": 73,
   "metadata": {},
   "outputs": [
    {
     "name": "stdout",
     "output_type": "stream",
     "text": [
      "order: 4\n",
      "order: 6\n",
      "order: 8\n",
      "order: 5\n",
      "order: 7\n",
      "tau: 0.8109302162163269, gamma: 0.8109302162163288, max_rank: None\n",
      "tau: 0.8109302162163279, gamma: 0.8109302162163288, max_rank: None\n",
      "order: 4 finished\n",
      "tau: 0.8109302162163293, gamma: 0.8109302162163288, max_rank: None\n",
      "tau: 0.8109302162163285, gamma: 0.8109302162163288, max_rank: None\n",
      "order: 5 finished\n",
      "tau: 0.8109302162163426, gamma: 0.8109302162163288, max_rank: None\n",
      "tau: 0.8109302162163267, gamma: 0.8109302162163288, max_rank: None\n",
      "order: 6 finished\n",
      "tau: 0.8109302162162065, gamma: 0.8109302162163288, max_rank: None\n",
      "tau: 0.8109302162163274, gamma: 0.8109302162163288, max_rank: None\n",
      "order: 7 finished\n",
      "tau: 0.8109302162144604, gamma: 0.8109302162163288, max_rank: None\n",
      "tau: 0.8109302162163294, gamma: 0.8109302162163288, max_rank: None\n",
      "order: 8 finished\n"
     ]
    }
   ],
   "source": [
    "p = mp.Pool(mp.cpu_count())\n",
    "results = [p.apply_async(get_propensity_errors_uniform_at_tensor_order, args=[N, 0.4, 2]) for N in orders]\n",
    "p.close()\n",
    "p.join()"
   ]
  },
  {
   "cell_type": "code",
   "execution_count": 74,
   "metadata": {},
   "outputs": [],
   "source": [
    "errors_MCAR_rect_larger = []\n",
    "errors_MCAR_sq_larger = []\n",
    "elapsed_times_MCAR_rect_larger = []\n",
    "elapsed_times_MCAR_sq_larger = []\n",
    "\n",
    "for result in results:\n",
    "    errors_MCAR_rect_larger.append(result.get()[0])\n",
    "    errors_MCAR_sq_larger.append(result.get()[1])\n",
    "    elapsed_times_MCAR_rect_larger.append(result.get()[2])\n",
    "    elapsed_times_MCAR_sq_larger.append(result.get()[3])\n",
    "\n",
    "errors_MCAR_rect_larger_dict = dict(zip(orders, errors_MCAR_rect_larger))\n",
    "errors_MCAR_sq_larger_dict = dict(zip(orders, errors_MCAR_sq_larger))"
   ]
  },
  {
   "cell_type": "markdown",
   "metadata": {},
   "source": [
    "Figure 1(a)"
   ]
  },
  {
   "cell_type": "code",
   "execution_count": 81,
   "metadata": {},
   "outputs": [
    {
     "data": {
      "text/plain": [
       "<matplotlib.legend.Legend at 0x7f9c102b5e48>"
      ]
     },
     "execution_count": 81,
     "metadata": {},
     "output_type": "execute_result"
    },
    {
     "data": {
      "image/png": "[encoded data removed]",
      "text/plain": [
       "<Figure size 432x288 with 1 Axes>"
      ]
     },
     "metadata": {
      "needs_background": "light"
     },
     "output_type": "display_data"
    }
   ],
   "source": [
    "fontsize = 30\n",
    "point_size = 50\n",
    "\n",
    "colors = ['orange', 'blue', 'red', 'purple', 'black', 'green', 'cyan']\n",
    "\n",
    "plt.plot(orders, errors_MCAR_rect, 'bo', linestyle='-', color=colors[0], label='unfolding along one order')\n",
    "plt.plot(orders, errors_MCAR_rect_larger, 'bo', linestyle='--', color=colors[0], label='unfolding along one order (2)')\n",
    "plt.plot(orders, errors_MCAR_sq, 'bo', linestyle='-', color=colors[1], label='square unfolding')\n",
    "plt.plot(orders, errors_MCAR_sq_larger, 'bo', linestyle='--', color=colors[1], label='square unfolding (2)')\n",
    "\n",
    "plt.xlabel('tensor order', fontsize=fontsize)\n",
    "plt.ylabel('relative error', fontsize=fontsize)\n",
    "\n",
    "xtick_pos = orders\n",
    "ytick_pos = [0.1*i for i in np.arange(4)]\n",
    "plt.xticks(xtick_pos, fontsize=fontsize)\n",
    "plt.yticks(ytick_pos, fontsize=fontsize)\n",
    "\n",
    "plt.ylim(0, 0.35)\n",
    "\n",
    "plt.legend(loc='upper center', bbox_to_anchor=(0.5, -0.3), fancybox=True, shadow=True, ncol=1, fontsize=fontsize-7)"
   ]
  },
  {
   "cell_type": "markdown",
   "metadata": {},
   "source": [
    "Figure 1(b)"
   ]
  },
  {
   "cell_type": "code",
   "execution_count": 84,
   "metadata": {},
   "outputs": [
    {
     "data": {
      "text/plain": [
       "<matplotlib.legend.Legend at 0x7f9c101dc358>"
      ]
     },
     "execution_count": 84,
     "metadata": {},
     "output_type": "execute_result"
    },
    {
     "data": {
      "image/png": "[encoded data removed]",
      "text/plain": [
       "<Figure size 432x288 with 1 Axes>"
      ]
     },
     "metadata": {
      "needs_background": "light"
     },
     "output_type": "display_data"
    }
   ],
   "source": [
    "fontsize = 30\n",
    "point_size = 50\n",
    "\n",
    "colors = ['orange', 'blue', 'red', 'green', 'purple', 'black', 'cyan']\n",
    "\n",
    "plt.scatter(orders, np.array(errors_MCAR_rect) / np.array(errors_MCAR_sq), s=point_size, color=colors[2], label='ratio of relative error')\n",
    "plt.scatter(orders, np.array(errors_MCAR_rect_larger) / np.array(errors_MCAR_sq_larger), s=point_size, color=colors[3], label='ratio of relative error (2)')\n",
    "\n",
    "plt.xlabel('tensor order', fontsize=fontsize)\n",
    "plt.ylabel('ratio', fontsize=fontsize)\n",
    "\n",
    "ytick_pos = [1, 1.1, 1.2]\n",
    "plt.xticks(fontsize=fontsize)\n",
    "plt.yticks(ytick_pos, fontsize=fontsize)\n",
    "\n",
    "plt.legend(loc='upper center', bbox_to_anchor=(0.5, -0.3), fancybox=True, shadow=True, ncol=1, fontsize=fontsize-7)"
   ]
  },
  {
   "cell_type": "markdown",
   "metadata": {},
   "source": [
    "Model B: MNAR"
   ]
  },
  {
   "cell_type": "code",
   "execution_count": 85,
   "metadata": {},
   "outputs": [],
   "source": [
    "def get_propensity_errors_non_uniform_at_tensor_order(N, parameter_ratio=1.5):\n",
    "    print(\"order: {}\".format(N))\n",
    "    r = [2 for _ in range(N)]\n",
    "    \n",
    "    # generate parameter tensor\n",
    "    A_noise_para = 0.1\n",
    "    np.random.seed(2)\n",
    "    A_real_core = 2 * np.random.uniform(0,1,r)\n",
    "    A_factor_matrices = [generate_orthogonal_mats((I,r[0])) for i in range(N)]\n",
    "    real_A = tucker_to_tensor((A_real_core, A_factor_matrices))\n",
    "    A_fro_norm = np.linalg.norm(real_A)\n",
    "    A_noise_coeff = A_noise_para * A_fro_norm / I ** (len(r)*1./2)\n",
    "    A_noise_ten = tl.tensor(np.random.normal(0,1,[I]*N))\n",
    "    A = real_A + A_noise_coeff * A_noise_ten\n",
    "    \n",
    "    A_rect = tl.unfold(A, mode=0)\n",
    "    _, A_Sigma, _ = randomized_svd(A_rect, n_components=10, n_iter=20, random_state=None)\n",
    "    alpha_of_A_rect = np.max(np.abs(A_rect))\n",
    "    theta_of_A_rect = np.sum(A_Sigma) / (np.sqrt(np.prod(A_rect.shape)))\n",
    "    \n",
    "    relative_error_rect, elapsed_rect = get_propensity_errors_from_A(\n",
    "        A, tau=parameter_ratio*theta_of_A_rect, gamma=parameter_ratio*alpha_of_A_rect, max_rank=None, method='rectangular')\n",
    "    \n",
    "    A_sq = square_unfolding(A)\n",
    "    _, A_Sigma, _ = randomized_svd(A_sq, n_components=10, n_iter=20, random_state=None)\n",
    "    alpha_of_A_sq = np.max(np.abs(A_sq))\n",
    "    theta_of_A_sq = np.sum(A_Sigma) / (np.sqrt(np.prod(A_sq.shape)))\n",
    "    \n",
    "    relative_error_sq, elapsed_sq = get_propensity_errors_from_A(\n",
    "        A, tau=parameter_ratio*theta_of_A_rect, gamma=parameter_ratio*alpha_of_A_rect, max_rank=None, method='square')\n",
    "    \n",
    "    \n",
    "    print(\"order: {} finished\".format(N))\n",
    "    return relative_error_rect, relative_error_sq, elapsed_rect, elapsed_sq   "
   ]
  },
  {
   "cell_type": "markdown",
   "metadata": {},
   "source": [
    "an instance of the 1-bit completion experiment"
   ]
  },
  {
   "cell_type": "code",
   "execution_count": 86,
   "metadata": {},
   "outputs": [
    {
     "name": "stdout",
     "output_type": "stream",
     "text": [
      "order: 6\n",
      "tau: 0.024478051061951063, gamma: 0.4732955648490587, max_rank: None\n",
      "tau: 0.024478051061951063, gamma: 0.4732955648490587, max_rank: None\n",
      "order: 6 finished\n"
     ]
    },
    {
     "data": {
      "text/plain": [
       "(0.009392374130923187,\n",
       " 0.008383333680063745,\n",
       " 0.08978533744812012,\n",
       " 0.3233203887939453)"
      ]
     },
     "execution_count": 86,
     "metadata": {},
     "output_type": "execute_result"
    }
   ],
   "source": [
    "get_propensity_errors_non_uniform_at_tensor_order(6, parameter_ratio=1)"
   ]
  },
  {
   "cell_type": "markdown",
   "metadata": {},
   "source": [
    "run the 1-bit completion experiments in parallel for MNAR tensor with $\\tau = \\theta$, $\\gamma = \\alpha$"
   ]
  },
  {
   "cell_type": "code",
   "execution_count": 89,
   "metadata": {},
   "outputs": [
    {
     "name": "stdout",
     "output_type": "stream",
     "text": [
      "order: 6\n",
      "order: 5\n",
      "order: 7\n",
      "order: 8\n",
      "order: 4\n",
      "tau: 0.07677415212450625, gamma: 0.4570851524620143, max_rank: None\n",
      "tau: 0.07677415212450625, gamma: 0.4570851524620143, max_rank: None\n",
      "order: 4 finished\n",
      "tau: 0.042002011553797916, gamma: 0.43860386093507936, max_rank: None\n",
      "tau: 0.042002011553797916, gamma: 0.43860386093507936, max_rank: None\n",
      "order: 5 finished\n",
      "tau: 0.024478051061951063, gamma: 0.4732955648490587, max_rank: None\n",
      "tau: 0.024478051061951063, gamma: 0.4732955648490587, max_rank: None\n",
      "order: 6 finished\n",
      "tau: 0.012803822687254636, gamma: 0.2993852203892347, max_rank: None\n",
      "tau: 0.012803822687254636, gamma: 0.2993852203892347, max_rank: None\n",
      "order: 7 finished\n",
      "tau: 0.006493589646487807, gamma: 0.3491348879506197, max_rank: None\n",
      "tau: 0.006493589646487807, gamma: 0.3491348879506197, max_rank: None\n",
      "order: 8 finished\n"
     ]
    }
   ],
   "source": [
    "p = mp.Pool(mp.cpu_count())\n",
    "results = [p.apply_async(get_propensity_errors_non_uniform_at_tensor_order, args=[N, 1]) for N in orders]\n",
    "p.close()\n",
    "p.join()"
   ]
  },
  {
   "cell_type": "code",
   "execution_count": 90,
   "metadata": {},
   "outputs": [],
   "source": [
    "errors_rect = []\n",
    "errors_sq = []\n",
    "elapsed_times_rect = []\n",
    "elapsed_times_sq = []\n",
    "\n",
    "for result in results:\n",
    "    errors_rect.append(result.get()[0])\n",
    "    errors_sq.append(result.get()[1])\n",
    "    elapsed_times_rect.append(result.get()[2])\n",
    "    elapsed_times_sq.append(result.get()[3])\n",
    "\n",
    "errors_rect_dict = dict(zip(orders, errors_rect))\n",
    "errors_sq_dict = dict(zip(orders, errors_sq))"
   ]
  },
  {
   "cell_type": "markdown",
   "metadata": {},
   "source": [
    "run the 1-bit completion experiments in parallel for MNAR tensor with $\\tau = 2\\theta$, $\\gamma = 2\\alpha$"
   ]
  },
  {
   "cell_type": "code",
   "execution_count": 91,
   "metadata": {},
   "outputs": [
    {
     "name": "stdout",
     "output_type": "stream",
     "text": [
      "order: 7\n",
      "order: 4\n",
      "order: 5\n",
      "order: 6\n",
      "order: 8\n",
      "tau: 0.1535483042490125, gamma: 0.9141703049240286, max_rank: None\n",
      "tau: 0.08400402310759583, gamma: 0.8772077218701587, max_rank: None\n",
      "tau: 0.1535483042490125, gamma: 0.9141703049240286, max_rank: None\n",
      "order: 4 finished\n",
      "tau: 0.08400402310759583, gamma: 0.8772077218701587, max_rank: None\n",
      "order: 5 finished\n",
      "tau: 0.048956102123902126, gamma: 0.9465911296981174, max_rank: None\n",
      "tau: 0.048956102123902126, gamma: 0.9465911296981174, max_rank: None\n",
      "order: 6 finished\n",
      "tau: 0.025607645374509273, gamma: 0.5987704407784694, max_rank: None\n",
      "tau: 0.025607645374509273, gamma: 0.5987704407784694, max_rank: None\n",
      "order: 7 finished\n",
      "tau: 0.012987179292975614, gamma: 0.6982697759012394, max_rank: None\n",
      "tau: 0.012987179292975614, gamma: 0.6982697759012394, max_rank: None\n",
      "order: 8 finished\n"
     ]
    }
   ],
   "source": [
    "p = mp.Pool(mp.cpu_count())\n",
    "results = [p.apply_async(get_propensity_errors_non_uniform_at_tensor_order, args=[N, 2]) for N in orders]\n",
    "p.close()\n",
    "p.join()"
   ]
  },
  {
   "cell_type": "code",
   "execution_count": 92,
   "metadata": {},
   "outputs": [],
   "source": [
    "errors_rect_larger = []\n",
    "errors_sq_larger = []\n",
    "elapsed_times_rect_larger = []\n",
    "elapsed_times_sq_larger = []\n",
    "\n",
    "for result in results:\n",
    "    errors_rect_larger.append(result.get()[0])\n",
    "    errors_sq_larger.append(result.get()[1])\n",
    "    elapsed_times_rect_larger.append(result.get()[2])\n",
    "    elapsed_times_sq_larger.append(result.get()[3])\n",
    "\n",
    "errors_rect_larger_dict = dict(zip(orders, errors_rect_larger))\n",
    "errors_sq_larger_dict = dict(zip(orders, errors_sq_larger))"
   ]
  },
  {
   "cell_type": "markdown",
   "metadata": {},
   "source": [
    "Figure 1(c)"
   ]
  },
  {
   "cell_type": "code",
   "execution_count": 97,
   "metadata": {},
   "outputs": [
    {
     "data": {
      "text/plain": [
       "<matplotlib.legend.Legend at 0x7f9c0ff87a90>"
      ]
     },
     "execution_count": 97,
     "metadata": {},
     "output_type": "execute_result"
    },
    {
     "data": {
      "image/png": "[encoded data removed]",
      "text/plain": [
       "<Figure size 432x288 with 1 Axes>"
      ]
     },
     "metadata": {
      "needs_background": "light"
     },
     "output_type": "display_data"
    }
   ],
   "source": [
    "fontsize = 30\n",
    "point_size = 50\n",
    "\n",
    "colors = ['orange', 'blue', 'red', 'purple', 'black', 'green', 'cyan']\n",
    "\n",
    "plt.plot(orders, errors_rect, 'bo', linestyle='-', color=colors[0], label='unfolding along one dimension')\n",
    "plt.plot(orders, errors_rect_larger, 'bo', linestyle='--', color=colors[0], label='unfolding along one dimension (2)')\n",
    "plt.plot(orders, errors_sq, 'bo', linestyle='-', color=colors[1], label='square unfolding')\n",
    "plt.plot(orders, errors_sq_larger, 'bo', linestyle='--', color=colors[1], label='square unfolding (2)')\n",
    "\n",
    "plt.xlabel('tensor order', fontsize=fontsize)\n",
    "plt.ylabel('relative error', fontsize=fontsize)\n",
    "\n",
    "xtick_pos = orders\n",
    "ytick_pos = [0.02*i for i in [0, 1, 2]]\n",
    "plt.xticks(xtick_pos, fontsize=fontsize)\n",
    "plt.yticks(ytick_pos, fontsize=fontsize)\n",
    "\n",
    "plt.ylim(0, 0.04)\n",
    "\n",
    "plt.legend(loc='upper center', bbox_to_anchor=(0.5, -0.3), fancybox=True, shadow=True, ncol=1, fontsize=fontsize-7)"
   ]
  },
  {
   "cell_type": "markdown",
   "metadata": {},
   "source": [
    "Figure 1(d)"
   ]
  },
  {
   "cell_type": "code",
   "execution_count": 94,
   "metadata": {},
   "outputs": [
    {
     "data": {
      "text/plain": [
       "<matplotlib.legend.Legend at 0x7f9c100e0dd8>"
      ]
     },
     "execution_count": 94,
     "metadata": {},
     "output_type": "execute_result"
    },
    {
     "data": {
      "image/png": "[encoded data removed]",
      "text/plain": [
       "<Figure size 432x288 with 1 Axes>"
      ]
     },
     "metadata": {
      "needs_background": "light"
     },
     "output_type": "display_data"
    }
   ],
   "source": [
    "fontsize = 30\n",
    "point_size = 50\n",
    "\n",
    "colors = ['orange', 'blue', 'red', 'green', 'purple', 'black', 'cyan']\n",
    "\n",
    "plt.scatter(orders, np.array(errors_rect) / np.array(errors_sq), s=point_size, color=colors[2], label='ratio of relative error')\n",
    "plt.scatter(orders, np.array(errors_rect_larger) / np.array(errors_sq_larger), s=point_size, color=colors[3], label='ratio of relative error (2)')\n",
    "\n",
    "plt.xlabel('tensor order', fontsize=fontsize)\n",
    "plt.ylabel('ratio', fontsize=fontsize)\n",
    "\n",
    "xtick_pos = orders\n",
    "ytick_pos = [1, 1.2, 1.4, 1.6]\n",
    "plt.xticks(xtick_pos, fontsize=fontsize)\n",
    "plt.yticks(ytick_pos, fontsize=fontsize)\n",
    "\n",
    "plt.legend(loc='upper center', bbox_to_anchor=(0.5, -0.3), fancybox=True, shadow=True, ncol=1, fontsize=fontsize-7)"
   ]
  }
 ],
 "metadata": {
  "kernelspec": {
   "display_name": "Python 3",
   "language": "python",
   "name": "python3"
  },
  "language_info": {
   "codemirror_mode": {
    "name": "ipython",
    "version": 3
   },
   "file_extension": ".py",
   "mimetype": "text/x-python",
   "name": "python",
   "nbconvert_exporter": "python",
   "pygments_lexer": "ipython3",
   "version": "3.7.3"
  }
 },
 "nbformat": 4,
 "nbformat_minor": 4
}
