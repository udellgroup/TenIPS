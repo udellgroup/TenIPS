{
 "cells": [
  {
   "cell_type": "code",
   "execution_count": 1,
   "metadata": {},
   "outputs": [],
   "source": [
    "import numpy as np\n",
    "import tensorly as tl\n",
    "import time\n",
    "import os\n",
    "from tensorly.decomposition import tucker, parafac, non_negative_tucker\n",
    "from tensorly.tenalg import kronecker\n",
    "from tensorly import tucker_to_tensor\n",
    "from matplotlib import pyplot as plt\n",
    "from sklearn.utils.extmath import randomized_svd\n",
    "from itertools import combinations\n",
    "import multiprocessing as mp\n",
    "from collections import defaultdict\n",
    "from scipy.optimize import minimize\n",
    "from itertools import product\n",
    "from copy import deepcopy\n",
    "\n",
    "import apgpy\n",
    "from scipy.sparse.linalg import svds\n",
    "\n",
    "from util import std_logistic_function, get_square_set, square_unfolding, normalized_error, tenips_general, \\\n",
    "tenips_general_paper1, generate_orthogonal_mats, one_bit_MC_fully_observed, one_bit_TC_fully_observed_gd\n",
    "\n",
    "import mkl\n",
    "mkl.set_num_threads(1)\n",
    "\n",
    "from matplotlib import pyplot as plt\n",
    "import matplotlib.ticker as ticker\n",
    "from matplotlib import rc\n",
    "rc('font', **{'family': 'serif', 'serif': ['Computer Modern'], 'weight': 'bold'})\n",
    "rc('text', usetex=True)"
   ]
  },
  {
   "cell_type": "markdown",
   "metadata": {},
   "source": [
    "generate data tensor"
   ]
  },
  {
   "cell_type": "code",
   "execution_count": 2,
   "metadata": {},
   "outputs": [
    {
     "name": "stdout",
     "output_type": "stream",
     "text": [
      "get core and factors\n",
      "get real_X\n"
     ]
    }
   ],
   "source": [
    "# Low rank + noise\n",
    "r = [5, 5, 5, 5]\n",
    "I = 100\n",
    "N = len(r)\n",
    "noise_para = 0.1 # noise parameter\n",
    "\n",
    "np.random.seed(1)\n",
    "# real_core = tl.tensor(np.random.uniform(-1, 1, r))\n",
    "real_core = 100 * tl.tensor(np.random.randn(*r))\n",
    "factor_matrices = [generate_orthogonal_mats((I, r[0])) for i in range(N)]\n",
    "print(\"get core and factors\")\n",
    "real_X = tucker_to_tensor((real_core, factor_matrices))\n",
    "print(\"get real_X\")\n",
    "fro_norm = np.linalg.norm(real_X)\n",
    "noise_coeff = noise_para * fro_norm / I ** (len(r)*1./2)\n",
    "noise_ten = tl.tensor(np.random.normal(0, 1, [I]*N))\n",
    "\n",
    "X = real_X + noise_coeff*noise_ten"
   ]
  },
  {
   "cell_type": "markdown",
   "metadata": {},
   "source": [
    "generate propensity tensor"
   ]
  },
  {
   "cell_type": "code",
   "execution_count": 3,
   "metadata": {},
   "outputs": [
    {
     "name": "stdout",
     "output_type": "stream",
     "text": [
      "get core and factors\n",
      "get real_A\n"
     ]
    }
   ],
   "source": [
    "A_noise_para = 0.1 # noise parameter\n",
    "np.random.seed(2)\n",
    "A_real_core = 100 * tl.tensor(np.random.randn(*r))\n",
    "# A_real_core = np.random.uniform(-1,1,r)\n",
    "A_factor_matrices = [generate_orthogonal_mats((I,r[0])) for i in range(N)]\n",
    "# A_factor_matrices = [np.random.uniform(-1, 1, (I, r[n])) for n in range(N)]\n",
    "print(\"get core and factors\")\n",
    "real_A = tucker_to_tensor((A_real_core, A_factor_matrices))\n",
    "print(\"get real_A\")\n",
    "A_fro_norm = np.linalg.norm(real_A)\n",
    "A_noise_coeff = A_noise_para * A_fro_norm / I ** (len(r)*1./2)\n",
    "A_noise_ten = tl.tensor(np.random.normal(0,1,[I]*N))\n",
    "\n",
    "A_true = real_A + A_noise_coeff * A_noise_ten"
   ]
  },
  {
   "cell_type": "code",
   "execution_count": 4,
   "metadata": {},
   "outputs": [],
   "source": [
    "P = std_logistic_function(A_true)"
   ]
  },
  {
   "cell_type": "code",
   "execution_count": 5,
   "metadata": {},
   "outputs": [
    {
     "data": {
      "text/plain": [
       "(array([       0., 10000000., 20000000., 30000000., 40000000., 50000000.,\n",
       "        60000000., 70000000., 80000000.]),\n",
       " <a list of 9 Text yticklabel objects>)"
      ]
     },
     "execution_count": 5,
     "metadata": {},
     "output_type": "execute_result"
    },
    {
     "data": {
      "image/png": "[encoded data removed]",
      "text/plain": [
       "<Figure size 432x288 with 1 Axes>"
      ]
     },
     "metadata": {
      "needs_background": "light"
     },
     "output_type": "display_data"
    }
   ],
   "source": [
    "fontsize = 30\n",
    "# ytick_pos = np.array([0, 2000, 4000, 6000, 8000])\n",
    "\n",
    "plt.hist(X.flatten())\n",
    "plt.ylabel(\"Number of entries\", fontsize=fontsize)\n",
    "plt.xlabel(\"Entry value of the data tensor\", fontsize=fontsize)\n",
    "plt.xticks(fontsize=fontsize)\n",
    "plt.yticks(fontsize=fontsize)"
   ]
  },
  {
   "cell_type": "code",
   "execution_count": 6,
   "metadata": {},
   "outputs": [
    {
     "data": {
      "text/plain": [
       "(array([       0., 10000000., 20000000., 30000000., 40000000., 50000000.,\n",
       "        60000000.]), <a list of 7 Text yticklabel objects>)"
      ]
     },
     "execution_count": 6,
     "metadata": {},
     "output_type": "execute_result"
    },
    {
     "data": {
      "image/png": "[encoded data removed]",
      "text/plain": [
       "<Figure size 432x288 with 1 Axes>"
      ]
     },
     "metadata": {
      "needs_background": "light"
     },
     "output_type": "display_data"
    }
   ],
   "source": [
    "fontsize = 50\n",
    "# ytick_pos = np.array([0, 2000, 4000, 6000, 8000])\n",
    "\n",
    "plt.hist(P.flatten())\n",
    "plt.ylabel(\"\\# entries\", fontsize=fontsize)\n",
    "plt.xlabel(\"propensity\", fontsize=fontsize)\n",
    "\n",
    "xtick_pos = [0.2, 0.4, 0.6, 0.8]\n",
    "plt.xticks(xtick_pos, fontsize=fontsize-10)\n",
    "plt.yticks(fontsize=fontsize-10)"
   ]
  },
  {
   "cell_type": "code",
   "execution_count": 7,
   "metadata": {},
   "outputs": [],
   "source": [
    "prop_B = std_logistic_function(A_true)\n",
    "mask_B = (np.random.uniform(0, 1, prop_B.shape) < prop_B).astype(int)"
   ]
  },
  {
   "cell_type": "markdown",
   "metadata": {},
   "source": [
    "estimate propensities - gradient descent"
   ]
  },
  {
   "cell_type": "code",
   "execution_count": null,
   "metadata": {},
   "outputs": [],
   "source": [
    "target_ranks = [5, 5, 5, 5]\n",
    "step_size = 5e-6\n",
    "A_pred, optimization_details_1 = one_bit_TC_fully_observed_gd(\n",
    "    mask_B, std_logistic_function, target_ranks, max_iter=100, A_true=A_true, \n",
    "    step_size_G=step_size, step_size_U=step_size)"
   ]
  },
  {
   "cell_type": "code",
   "execution_count": null,
   "metadata": {},
   "outputs": [],
   "source": [
    "target_ranks = [5, 5, 5, 5]\n",
    "step_size = 3e-6\n",
    "A_pred_2, optimization_details_2 = one_bit_TC_fully_observed_gd(\n",
    "    mask_X, std_logistic_function, target_ranks, max_iter=100, A_true=A_true, \n",
    "    step_size_G=step_size, step_size_U=step_size)"
   ]
  },
  {
   "cell_type": "code",
   "execution_count": null,
   "metadata": {},
   "outputs": [],
   "source": [
    "target_ranks = [5, 5, 5, 5]\n",
    "step_size = 1e-6\n",
    "A_pred_3, optimization_details_3 = one_bit_TC_fully_observed_gd(\n",
    "    mask_X, std_logistic_function, target_ranks, max_iter=100, A_true=A_true, \n",
    "    step_size_G=step_size, step_size_U=step_size)"
   ]
  },
  {
   "cell_type": "code",
   "execution_count": null,
   "metadata": {},
   "outputs": [],
   "source": [
    "target_ranks = [5, 5, 5, 5]\n",
    "step_size = 5e-7\n",
    "A_pred_4, optimization_details_4 = one_bit_TC_fully_observed_gd(\n",
    "    mask_X, std_logistic_function, target_ranks, max_iter=100, A_true=A_true, \n",
    "    step_size_G=step_size, step_size_U=step_size)"
   ]
  },
  {
   "cell_type": "code",
   "execution_count": null,
   "metadata": {},
   "outputs": [],
   "source": [
    "target_ranks = [5, 5, 5, 5]\n",
    "step_size = 7e-6\n",
    "A_pred_5, optimization_details_5 = one_bit_TC_fully_observed_gd(\n",
    "    mask_X, std_logistic_function, target_ranks, max_iter=100, A_true=A_true, \n",
    "    step_size_G=step_size, step_size_U=step_size)"
   ]
  },
  {
   "cell_type": "code",
   "execution_count": null,
   "metadata": {},
   "outputs": [],
   "source": [
    "step_size_all = [5e-6, 3e-6, 1e-6, 5e-7, 7e-6]\n",
    "\n",
    "def extract_optimization_details_all(iter):\n",
    "    P_relative_error_all = []\n",
    "    relative_loss_all = []\n",
    "    for idx, step_size in enumerate(step_size_all):\n",
    "        U_all = eval(\"optimization_details_{}\".format(idx+1))['U'][iter].copy()\n",
    "        G = eval(\"optimization_details_{}\".format(idx+1))['G'][iter].copy()\n",
    "    \n",
    "        A_pred_single_iter = tucker_to_tensor((G, U_all))\n",
    "\n",
    "        loss = tensor_log_loss(mask_B, A_pred_single_iter)\n",
    "        relative_loss = loss / loss_true\n",
    "        P_relative_error_all.append(normalized_error(std_logistic_function(A_true), \n",
    "                                                     std_logistic_function(A_pred_single_iter)))\n",
    "        relative_loss_all.append(relative_loss)\n",
    "\n",
    "\n",
    "    return iter, P_relative_error_all, relative_loss_all"
   ]
  },
  {
   "cell_type": "code",
   "execution_count": null,
   "metadata": {},
   "outputs": [],
   "source": [
    "p1 = mp.Pool(100)\n",
    "result = [p1.apply_async(extract_optimization_details_all, args=[iter]) for iter in range(100)]\n",
    "p1.close()\n",
    "p1.join()\n",
    "\n",
    "result = [item.get() for item in result]\n",
    "result = np.vstack(result)"
   ]
  },
  {
   "cell_type": "code",
   "execution_count": null,
   "metadata": {},
   "outputs": [],
   "source": [
    "P_relative_error_all = np.vstack([np.array(result[i][1]) for i in range(100)])\n",
    "relative_loss_all = np.vstack([np.array(result[i][2]) for i in range(100)])\n",
    "P_relative_error_all[np.isnan(P_relative_error_all)] = 2\n",
    "relative_loss_all[np.isnan(relative_loss_all)] = 10"
   ]
  },
  {
   "cell_type": "code",
   "execution_count": 130,
   "metadata": {},
   "outputs": [
    {
     "data": {
      "image/png": "[encoded data removed]",
      "text/plain": [
       "<Figure size 432x288 with 1 Axes>"
      ]
     },
     "metadata": {
      "needs_background": "light"
     },
     "output_type": "display_data"
    }
   ],
   "source": [
    "fontsize = 33\n",
    "linewidth = 3\n",
    "markersize = 6\n",
    "n_iters = 20\n",
    "colors = ['blue', 'green', 'orange', 'red']\n",
    "\n",
    "plt.plot(np.arange(n_iters), P_relative_error_all[:n_iters, 4], 'bo', linestyle=':', linewidth=linewidth, markersize=markersize, color=colors[3], label=r\"$7 \\times 10^{-6}$\")\n",
    "plt.plot(np.arange(n_iters), P_relative_error_all[:n_iters, 0], 'bo', linestyle='-', linewidth=linewidth+3, alpha=0.5, markersize=markersize, color=colors[0], label=r\"$5 \\times 10^{-6}$\")\n",
    "plt.plot(np.arange(n_iters), P_relative_error_all[:n_iters, 1], 'bo', linestyle='-.', linewidth=linewidth, markersize=markersize, color=colors[2], label=r\"$3 \\times 10^{-6}$\")\n",
    "plt.plot(np.arange(n_iters), P_relative_error_all[:n_iters, 2], 'bo', linestyle='--', linewidth=linewidth, markersize=markersize, color=colors[1], label=r\"$1 \\times 10^{-6}$\")\n",
    "\n",
    "plt.ylabel(\"propensity error\", fontsize=fontsize-5)\n",
    "plt.xlabel(\"iteration\", fontsize=fontsize-5)\n",
    "xtick_pos = [0, 5, 10, 15, 20]\n",
    "ytick_pos = [0.2, 0.4, 0.6, 0.8, 1]\n",
    "# plt.xticks(fontsize=fontsize)\n",
    "# plt.yticks(fontsize=fontsize)\n",
    "plt.xticks(xtick_pos, fontsize=fontsize)\n",
    "plt.yticks(ytick_pos, fontsize=fontsize)\n",
    "plt.ylim(0, 1.1)\n",
    "\n",
    "plt.legend(loc='upper center', bbox_to_anchor=(.75, 1.05), fancybox=True, shadow=True, ncol=1, fontsize=fontsize-10)"
   ]
  },
  {
   "cell_type": "code",
   "execution_count": 132,
   "metadata": {},
   "outputs": [
    {
     "data": {
      "image/png": "[encoded data removed]",
      "text/plain": [
       "<Figure size 432x288 with 1 Axes>"
      ]
     },
     "metadata": {
      "needs_background": "light"
     },
     "output_type": "display_data"
    }
   ],
   "source": [
    "fontsize = 33\n",
    "linewidth = 3\n",
    "markersize = 6\n",
    "n_iters = 20\n",
    "colors = ['blue', 'green', 'orange', 'red']\n",
    "\n",
    "plt.plot(np.arange(n_iters), relative_loss_all[:n_iters, 4], 'bo', linestyle=':', linewidth=linewidth, markersize=markersize, color=colors[3], label=r\"$7 \\times 10^{-6}$\")\n",
    "plt.plot(np.arange(n_iters), relative_loss_all[:n_iters, 0], 'bo', linestyle='-', linewidth=linewidth+3, alpha=0.5, markersize=markersize, color=colors[0], label=r\"$5 \\times 10^{-6}$\")\n",
    "plt.plot(np.arange(n_iters), relative_loss_all[:n_iters, 1], 'bo', linestyle='-.', linewidth=linewidth, markersize=markersize, color=colors[2], label=r\"$3 \\times 10^{-6}$\")\n",
    "plt.plot(np.arange(n_iters), relative_loss_all[:n_iters, 2], 'bo', linestyle='--', linewidth=linewidth, markersize=markersize, color=colors[1], label=r\"$1 \\times 10^{-6}$\")\n",
    "\n",
    "plt.ylabel(\"relative loss\", fontsize=fontsize-5)\n",
    "plt.xlabel(\"iteration\", fontsize=fontsize-5)\n",
    "xtick_pos = [0, 5, 10, 15, 20]\n",
    "ytick_pos = [1, 1.2, 1.4, 1.6, 1.8]\n",
    "plt.xticks(xtick_pos, fontsize=fontsize)\n",
    "plt.yticks(ytick_pos, fontsize=fontsize)\n",
    "plt.ylim(1, 1.9)\n",
    "\n",
    "plt.legend(loc='upper center', bbox_to_anchor=(1.5, 1.05), fancybox=True, shadow=True, ncol=1, fontsize=fontsize-10)"
   ]
  }
 ],
 "metadata": {
  "kernelspec": {
   "display_name": "Python 3",
   "language": "python",
   "name": "python3"
  },
  "language_info": {
   "codemirror_mode": {
    "name": "ipython",
    "version": 3
   },
   "file_extension": ".py",
   "mimetype": "text/x-python",
   "name": "python",
   "nbconvert_exporter": "python",
   "pygments_lexer": "ipython3",
   "version": "3.7.3"
  }
 },
 "nbformat": 4,
 "nbformat_minor": 2
}
