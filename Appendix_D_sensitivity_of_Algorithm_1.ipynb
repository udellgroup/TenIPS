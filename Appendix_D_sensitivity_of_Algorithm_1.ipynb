{
 "cells": [
  {
   "cell_type": "code",
   "execution_count": 1,
   "metadata": {},
   "outputs": [],
   "source": [
    "import numpy as np\n",
    "import pandas as pd\n",
    "import tensorly as tl\n",
    "import time\n",
    "import os\n",
    "from tensorly.decomposition import tucker, parafac, non_negative_tucker\n",
    "from tensorly import tucker_to_tensor\n",
    "from matplotlib import pyplot as plt\n",
    "from sklearn.utils.extmath import randomized_svd\n",
    "from itertools import combinations\n",
    "import multiprocessing as mp\n",
    "from collections import defaultdict\n",
    "from copy import deepcopy\n",
    "\n",
    "from util import std_logistic_function, get_square_set, square_unfolding, normalized_error, tenips_general, \\\n",
    "tenips_general_paper1, generate_orthogonal_mats, one_bit_MC_fully_observed, one_bit_TC_fully_observed_gd\n",
    "\n",
    "import apgpy\n",
    "from scipy.sparse.linalg import svds\n",
    "import mkl\n",
    "mkl.set_num_threads(1)\n",
    "\n",
    "from matplotlib import pyplot as plt\n",
    "import matplotlib.ticker as ticker\n",
    "from matplotlib import rc\n",
    "rc('font', **{'family': 'serif', 'serif': ['Computer Modern'], 'weight': 'bold'})\n",
    "rc('text', usetex=True)"
   ]
  },
  {
   "cell_type": "markdown",
   "metadata": {},
   "source": [
    "generate data tensor"
   ]
  },
  {
   "cell_type": "code",
   "execution_count": 2,
   "metadata": {},
   "outputs": [
    {
     "name": "stdout",
     "output_type": "stream",
     "text": [
      "get core and factors\n",
      "get real_X\n"
     ]
    }
   ],
   "source": [
    "# Low rank + noise\n",
    "r = [5, 5, 5, 5]\n",
    "I = 100\n",
    "N = len(r)\n",
    "noise_para = 0.1 # noise parameter\n",
    "\n",
    "np.random.seed(1)\n",
    "# real_core = tl.tensor(np.random.uniform(-1, 1, r))\n",
    "real_core = 100 * tl.tensor(np.random.randn(*r))\n",
    "factor_matrices = [generate_orthogonal_mats((I, r[0])) for i in range(N)]\n",
    "print(\"get core and factors\")\n",
    "real_X = tucker_to_tensor((real_core, factor_matrices))\n",
    "print(\"get real_X\")\n",
    "fro_norm = np.linalg.norm(real_X)\n",
    "noise_coeff = noise_para * fro_norm / I ** (len(r)*1./2)\n",
    "noise_ten = tl.tensor(np.random.normal(0, 1, [I]*N))\n",
    "\n",
    "X = real_X + noise_coeff*noise_ten"
   ]
  },
  {
   "cell_type": "markdown",
   "metadata": {},
   "source": [
    "generate propensity tensor"
   ]
  },
  {
   "cell_type": "code",
   "execution_count": 3,
   "metadata": {},
   "outputs": [
    {
     "name": "stdout",
     "output_type": "stream",
     "text": [
      "get core and factors\n",
      "get real_A\n"
     ]
    }
   ],
   "source": [
    "A_noise_para = 0.1 # noise parameter\n",
    "np.random.seed(2)\n",
    "A_real_core = 100 * tl.tensor(np.random.randn(*r))\n",
    "# A_real_core = np.random.uniform(-1,1,r)\n",
    "A_factor_matrices = [generate_orthogonal_mats((I,r[0])) for i in range(N)]\n",
    "# A_factor_matrices = [np.random.uniform(-1, 1, (I, r[n])) for n in range(N)]\n",
    "print(\"get core and factors\")\n",
    "real_A = tucker_to_tensor((A_real_core, A_factor_matrices))\n",
    "print(\"get real_A\")\n",
    "A_fro_norm = np.linalg.norm(real_A)\n",
    "A_noise_coeff = A_noise_para * A_fro_norm / I ** (len(r)*1./2)\n",
    "A_noise_ten = tl.tensor(np.random.normal(0,1,[I]*N))\n",
    "\n",
    "A = real_A + A_noise_coeff * A_noise_ten\n",
    "A_true = A"
   ]
  },
  {
   "cell_type": "code",
   "execution_count": 4,
   "metadata": {},
   "outputs": [],
   "source": [
    "P = std_logistic_function(A)"
   ]
  },
  {
   "cell_type": "code",
   "execution_count": 5,
   "metadata": {},
   "outputs": [
    {
     "data": {
      "text/plain": [
       "(array([       0., 10000000., 20000000., 30000000., 40000000., 50000000.,\n",
       "        60000000., 70000000., 80000000.]),\n",
       " <a list of 9 Text yticklabel objects>)"
      ]
     },
     "execution_count": 5,
     "metadata": {},
     "output_type": "execute_result"
    },
    {
     "data": {
      "image/png": "[encoded data removed]",
      "text/plain": [
       "<Figure size 432x288 with 1 Axes>"
      ]
     },
     "metadata": {
      "needs_background": "light"
     },
     "output_type": "display_data"
    }
   ],
   "source": [
    "fontsize = 30\n",
    "# ytick_pos = np.array([0, 2000, 4000, 6000, 8000])\n",
    "\n",
    "plt.hist(X.flatten())\n",
    "plt.ylabel(\"Number of entries\", fontsize=fontsize)\n",
    "plt.xlabel(\"Entry value of the data tensor\", fontsize=fontsize)\n",
    "plt.xticks(fontsize=fontsize)\n",
    "plt.yticks(fontsize=fontsize)"
   ]
  },
  {
   "cell_type": "code",
   "execution_count": 6,
   "metadata": {},
   "outputs": [
    {
     "data": {
      "text/plain": [
       "(array([       0., 10000000., 20000000., 30000000., 40000000., 50000000.,\n",
       "        60000000.]), <a list of 7 Text yticklabel objects>)"
      ]
     },
     "execution_count": 6,
     "metadata": {},
     "output_type": "execute_result"
    },
    {
     "data": {
      "image/png": "[encoded data removed]",
      "text/plain": [
       "<Figure size 432x288 with 1 Axes>"
      ]
     },
     "metadata": {
      "needs_background": "light"
     },
     "output_type": "display_data"
    }
   ],
   "source": [
    "fontsize = 50\n",
    "# ytick_pos = np.array([0, 2000, 4000, 6000, 8000])\n",
    "\n",
    "plt.hist(P.flatten())\n",
    "plt.ylabel(\"\\# entries\", fontsize=fontsize)\n",
    "plt.xlabel(\"propensity\", fontsize=fontsize)\n",
    "\n",
    "xtick_pos = [0.2, 0.4, 0.6, 0.8]\n",
    "plt.xticks(xtick_pos, fontsize=fontsize-10)\n",
    "plt.yticks(fontsize=fontsize-10)"
   ]
  },
  {
   "cell_type": "code",
   "execution_count": 7,
   "metadata": {},
   "outputs": [],
   "source": [
    "prop_B = std_logistic_function(A_true)\n",
    "mask_B = (np.random.uniform(0, 1, prop_B.shape) < prop_B).astype(int)"
   ]
  },
  {
   "cell_type": "code",
   "execution_count": 8,
   "metadata": {},
   "outputs": [],
   "source": [
    "A_sq = square_unfolding(A)\n",
    "_, A_Sigma, _ = randomized_svd(A_sq, n_components=10, n_iter=20, random_state=None)\n",
    "alpha_of_A_sq = np.max(np.abs(A_sq))\n",
    "theta_of_A_sq = np.sum(A_Sigma) / (np.sqrt(np.prod(A_sq.shape)))"
   ]
  },
  {
   "cell_type": "code",
   "execution_count": 9,
   "metadata": {},
   "outputs": [
    {
     "data": {
      "text/plain": [
       "3.1740064600780293"
      ]
     },
     "execution_count": 9,
     "metadata": {},
     "output_type": "execute_result"
    }
   ],
   "source": [
    "alpha_of_A_sq"
   ]
  },
  {
   "cell_type": "code",
   "execution_count": 10,
   "metadata": {},
   "outputs": [
    {
     "data": {
      "text/plain": [
       "0.7183197378579977"
      ]
     },
     "execution_count": 10,
     "metadata": {},
     "output_type": "execute_result"
    }
   ],
   "source": [
    "theta_of_A_sq"
   ]
  },
  {
   "cell_type": "code",
   "execution_count": 11,
   "metadata": {},
   "outputs": [],
   "source": [
    "def evaluate_sq(max_iter, fixed_step_size=False, tau_ratio=1, gamma_ratio=1):\n",
    "    \"\"\"\n",
    "    A helper function to run Algorithm 1 with a specified configuration.\n",
    "    \"\"\"\n",
    "    print(\"maximum iteration: {}\".format(max_iter))\n",
    "    \n",
    "    prop_B_sq = square_unfolding(prop_B)\n",
    "    mask_B_sq = square_unfolding(mask_B)\n",
    "\n",
    "    start = time.time()\n",
    "    A_sq_pred = one_bit_MC_fully_observed(mask_B_sq, std_logistic_function, \n",
    "                                          apg_max_iter=max_iter, tau=tau_ratio * theta_of_A_sq, \n",
    "                                          gamma=gamma_ratio * alpha_of_A_sq, max_rank=25, init='uniform', \n",
    "                                          fixed_step_size=fixed_step_size)\n",
    "    elapsed = time.time() - start\n",
    "    print(\"maximum iteration {} finished\".format(max_iter))\n",
    "    return deepcopy(max_iter), deepcopy(elapsed), deepcopy(A_sq_pred)"
   ]
  },
  {
   "cell_type": "markdown",
   "metadata": {},
   "source": [
    "change tau"
   ]
  },
  {
   "cell_type": "code",
   "execution_count": null,
   "metadata": {},
   "outputs": [],
   "source": [
    "tau_ratio_all = [0.25, 0.5, 1, 2, 3, 4, 5, 6, 7, 8, 9, 10, 20, 30, 40, 50]"
   ]
  },
  {
   "cell_type": "code",
   "execution_count": null,
   "metadata": {},
   "outputs": [],
   "source": [
    "p1 = mp.Pool(30)\n",
    "result = [p1.apply_async(evaluate_sq, args=[10, True, tau_ratio, 1]) for tau_ratio in tau_ratio_all]\n",
    "p1.close()\n",
    "p1.join()\n",
    "\n",
    "result = [item.get() for item in result]"
   ]
  },
  {
   "cell_type": "code",
   "execution_count": null,
   "metadata": {},
   "outputs": [],
   "source": [
    "A_true_sq = square_unfolding(A_true)"
   ]
  },
  {
   "cell_type": "code",
   "execution_count": null,
   "metadata": {},
   "outputs": [],
   "source": [
    "def extract_optimization_details(item):\n",
    "    max_iter = item[0]\n",
    "    elapsed = item[1]\n",
    "    A_sq_pred = item[2]    \n",
    "\n",
    "    loss = tensor_log_loss(square_unfolding(mask_X), A_sq_pred)\n",
    "    _, A_pred_Sigma, _ = randomized_svd(A_sq_pred, n_components=5, n_iter=20, random_state=None)\n",
    "    alpha_of_A_pred_sq = np.max(np.abs(A_sq_pred))\n",
    "    theta_of_A_pred_sq = np.sum(A_pred_Sigma) / (np.sqrt(np.prod(A_sq_pred.shape)))     \n",
    "    \n",
    "    return max_iter, elapsed, normalized_error(A_true_sq, A_sq_pred), \\\n",
    "        normalized_error(std_logistic_function(A_true_sq), std_logistic_function(A_sq_pred)), \\\n",
    "        alpha_of_A_pred_sq, theta_of_A_pred_sq, loss\n",
    "#     print(\"iter {}, elapsed time {}, A normalized error {:.4f}, P normalized error {:.4f}, alpha: {:.4f}, theta: {:.4f}\".format(\n",
    "#         ))"
   ]
  },
  {
   "cell_type": "code",
   "execution_count": null,
   "metadata": {},
   "outputs": [],
   "source": [
    "p2 = mp.Pool(25)\n",
    "result_extracted = [p2.apply_async(extract_optimization_details, args=[item]) for item in result]\n",
    "p2.close()\n",
    "p2.join()"
   ]
  },
  {
   "cell_type": "code",
   "execution_count": null,
   "metadata": {},
   "outputs": [],
   "source": [
    "P_normalized_error_all = []\n",
    "for idx, item in enumerate(result_extracted):\n",
    "#     print(tau_ratio_all[idx])\n",
    "#     print(\"iter {}, elapsed time {}, A normalized error {:.4f}, \\\n",
    "#     P normalized error {:.4f}, alpha: {:.4f}, theta: {:.4f}, loss: {:.4f}\".format(*item.get()))\n",
    "    P_normalized_error_all.append(item.get()[3])"
   ]
  },
  {
   "cell_type": "code",
   "execution_count": 94,
   "metadata": {},
   "outputs": [
    {
     "data": {
      "image/png": "[encoded data removed]",
      "text/plain": [
       "<Figure size 432x288 with 1 Axes>"
      ]
     },
     "metadata": {
      "needs_background": "light"
     },
     "output_type": "display_data"
    }
   ],
   "source": [
    "fontsize = 40\n",
    "markersize = 100\n",
    "plt.scatter(tau_ratio_all[:12], P_normalized_error_all[:12], s=markersize)\n",
    "plt.ylabel(\"propensity error\", fontsize=fontsize-5)\n",
    "plt.xlabel(r'$\\tau/\\theta$', fontsize=fontsize-5)\n",
    "ytick_pos = [0, 0.2, 0.4, 0.6, 0.8]\n",
    "plt.xticks(fontsize=fontsize)\n",
    "plt.yticks(ytick_pos, fontsize=fontsize)"
   ]
  },
  {
   "cell_type": "markdown",
   "metadata": {},
   "source": [
    "change gamma"
   ]
  },
  {
   "cell_type": "code",
   "execution_count": null,
   "metadata": {},
   "outputs": [],
   "source": [
    "gamma_ratio_all = [0.25, 0.5, 1, 2, 3, 4, 5, 8, 10]\n",
    "p2 = mp.Pool(30)\n",
    "result_2 = [p2.apply_async(evaluate_sq, args=[10, True, 1, gamma_ratio]) for gamma_ratio in gamma_ratio_all]\n",
    "p2.close()\n",
    "p2.join()\n",
    "\n",
    "result_2 = [item.get() for item in result_2]"
   ]
  },
  {
   "cell_type": "code",
   "execution_count": null,
   "metadata": {},
   "outputs": [],
   "source": [
    "p3 = mp.Pool(25)\n",
    "result_2_extracted = [p3.apply_async(extract_optimization_details, args=[item]) for item in result_2]\n",
    "p3.close()\n",
    "p3.join()"
   ]
  },
  {
   "cell_type": "code",
   "execution_count": null,
   "metadata": {},
   "outputs": [],
   "source": [
    "P_normalized_error_all_2 = []\n",
    "for idx, item in enumerate(result_2_extracted):\n",
    "    print(gamma_ratio_all[idx])\n",
    "#     print(\"iter {}, elapsed time {}, A normalized error {:.4f}, \\\n",
    "#     P normalized error {:.4f}, alpha: {:.4f}, theta: {:.4f}, loss: {:.4f}\".format(*item.get()))\n",
    "    P_normalized_error_all_2.append(item.get()[3])"
   ]
  },
  {
   "cell_type": "code",
   "execution_count": 93,
   "metadata": {},
   "outputs": [
    {
     "data": {
      "image/png": "[encoded data removed]",
      "text/plain": [
       "<Figure size 432x288 with 1 Axes>"
      ]
     },
     "metadata": {
      "needs_background": "light"
     },
     "output_type": "display_data"
    }
   ],
   "source": [
    "fontsize = 40\n",
    "markersize = 100\n",
    "plt.scatter(gamma_ratio_all, P_normalized_error_all_2, s=markersize)\n",
    "plt.ylabel(\"propensity error\", fontsize=fontsize-5)\n",
    "plt.xlabel(r'$\\gamma / \\alpha$', fontsize=fontsize-5)\n",
    "# xtick_pos = [0.2, 0.4, 0.6]\n",
    "ytick_pos = [0, 0.05, 0.10]\n",
    "plt.xticks(fontsize=fontsize)\n",
    "plt.yticks(ytick_pos, fontsize=fontsize)"
   ]
  }
 ],
 "metadata": {
  "kernelspec": {
   "display_name": "Python 3",
   "language": "python",
   "name": "python3"
  },
  "language_info": {
   "codemirror_mode": {
    "name": "ipython",
    "version": 3
   },
   "file_extension": ".py",
   "mimetype": "text/x-python",
   "name": "python",
   "nbconvert_exporter": "python",
   "pygments_lexer": "ipython3",
   "version": "3.7.3"
  }
 },
 "nbformat": 4,
 "nbformat_minor": 2
}
